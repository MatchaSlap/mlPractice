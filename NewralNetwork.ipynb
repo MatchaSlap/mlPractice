{
 "cells": [
  {
   "cell_type": "code",
   "execution_count": 1,
   "metadata": {},
   "outputs": [],
   "source": [
    "# To support both python 2 and python 3\n",
    "from __future__ import division, print_function, unicode_literals\n",
    "\n",
    "# Common imports\n",
    "import numpy as np\n",
    "import os\n",
    "\n",
    "# to make this notebook's output stable across runs\n",
    "def reset_graph(seed=42):\n",
    "    tf.reset_default_graph()\n",
    "    tf.set_random_seed(seed)\n",
    "    np.random.seed(seed)\n",
    "\n",
    "# To plot pretty figures\n",
    "%matplotlib inline\n",
    "import matplotlib\n",
    "import matplotlib.pyplot as plt\n",
    "plt.rcParams['axes.labelsize'] = 14\n",
    "plt.rcParams['xtick.labelsize'] = 12\n",
    "plt.rcParams['ytick.labelsize'] = 12\n",
    "\n",
    "# Where to save the figures\n",
    "PROJECT_ROOT_DIR = \".\"\n",
    "CHAPTER_ID = \"ann\"\n",
    "\n",
    "def save_fig(fig_id, tight_layout=True):\n",
    "    path = os.path.join(PROJECT_ROOT_DIR, \"images\", CHAPTER_ID, fig_id + \".png\")\n",
    "    print(\"Saving figure\", fig_id)\n",
    "    if tight_layout:\n",
    "        plt.tight_layout()\n",
    "    plt.savefig(path, format='png', dpi=300)"
   ]
  },
  {
   "cell_type": "code",
   "execution_count": 2,
   "metadata": {},
   "outputs": [],
   "source": [
    "import numpy as np\n",
    "import os\n",
    "import tensorflow as tf\n",
    "import matplotlib.pyplot as plt\n",
    "import pandas as pd\n",
    "import seaborn as sns"
   ]
  },
  {
   "cell_type": "code",
   "execution_count": 3,
   "metadata": {},
   "outputs": [],
   "source": [
    "import numpy as np\n",
    "from sklearn.datasets import load_iris\n",
    "from sklearn.linear_model import Perceptron\n",
    "\n",
    "iris = load_iris()\n",
    "X = iris.data[:, (2,3)]\n",
    "y = (iris.target == 0).astype(np.int)\n",
    "\n",
    "per_clf = Perceptron(max_iter=100, tol=-np.infty, random_state=42)\n",
    "per_clf.fit(X,y)\n",
    "y_pred = per_clf.predict([[2,0.5]])"
   ]
  },
  {
   "cell_type": "code",
   "execution_count": 4,
   "metadata": {},
   "outputs": [],
   "source": [
    "import numpy as np\n",
    "import tensorflow as tf"
   ]
  },
  {
   "cell_type": "code",
   "execution_count": 3,
   "metadata": {},
   "outputs": [],
   "source": [
    "(X_train, y_train), (X_test, y_test) = tf.keras.datasets.mnist.load_data()\n",
    "X_train = X_train.astype(np.float32).reshape(-1, 28*28) / 255.0\n",
    "X_test = X_test.astype(np.float32).reshape(-1, 28*28) / 255.0\n",
    "y_train = y_train.astype(np.int32)\n",
    "y_test = y_test.astype(np.int32)\n",
    "X_valid, X_train = X_train[:5000], X_train[5000:]\n",
    "y_valid, y_train = y_train[:5000], y_train[5000:]"
   ]
  },
  {
   "cell_type": "code",
   "execution_count": 5,
   "metadata": {},
   "outputs": [
    {
     "name": "stdout",
     "output_type": "stream",
     "text": [
      "INFO:tensorflow:Using default config.\n",
      "WARNING:tensorflow:Using temporary folder as model directory: /var/folders/r4/ld0lj9qx2r9dbdjl8zmcyzqm0000gn/T/tmpv10c8zg7\n",
      "INFO:tensorflow:Using config: {'_model_dir': '/var/folders/r4/ld0lj9qx2r9dbdjl8zmcyzqm0000gn/T/tmpv10c8zg7', '_tf_random_seed': None, '_save_summary_steps': 100, '_save_checkpoints_steps': None, '_save_checkpoints_secs': 600, '_session_config': None, '_keep_checkpoint_max': 5, '_keep_checkpoint_every_n_hours': 10000, '_log_step_count_steps': 100, '_train_distribute': None, '_service': None, '_cluster_spec': <tensorflow.python.training.server_lib.ClusterSpec object at 0x149e7e710>, '_task_type': 'worker', '_task_id': 0, '_global_id_in_cluster': 0, '_master': '', '_evaluation_master': '', '_is_chief': True, '_num_ps_replicas': 0, '_num_worker_replicas': 1}\n",
      "INFO:tensorflow:Calling model_fn.\n",
      "INFO:tensorflow:Done calling model_fn.\n",
      "INFO:tensorflow:Create CheckpointSaverHook.\n",
      "INFO:tensorflow:Graph was finalized.\n",
      "INFO:tensorflow:Running local_init_op.\n",
      "INFO:tensorflow:Done running local_init_op.\n",
      "INFO:tensorflow:Saving checkpoints for 1 into /var/folders/r4/ld0lj9qx2r9dbdjl8zmcyzqm0000gn/T/tmpv10c8zg7/model.ckpt.\n",
      "INFO:tensorflow:loss = 113.95355, step = 1\n",
      "INFO:tensorflow:global_step/sec: 490.872\n",
      "INFO:tensorflow:loss = 10.503007, step = 101 (0.204 sec)\n",
      "INFO:tensorflow:global_step/sec: 551.204\n",
      "INFO:tensorflow:loss = 5.7177, step = 201 (0.182 sec)\n",
      "INFO:tensorflow:global_step/sec: 483.599\n",
      "INFO:tensorflow:loss = 4.189067, step = 301 (0.207 sec)\n",
      "INFO:tensorflow:global_step/sec: 550.873\n",
      "INFO:tensorflow:loss = 4.941096, step = 401 (0.181 sec)\n",
      "INFO:tensorflow:global_step/sec: 560.714\n",
      "INFO:tensorflow:loss = 7.437051, step = 501 (0.178 sec)\n",
      "INFO:tensorflow:global_step/sec: 515.102\n",
      "INFO:tensorflow:loss = 6.0276747, step = 601 (0.194 sec)\n",
      "INFO:tensorflow:global_step/sec: 570.92\n",
      "INFO:tensorflow:loss = 11.440011, step = 701 (0.175 sec)\n",
      "INFO:tensorflow:global_step/sec: 483.512\n",
      "INFO:tensorflow:loss = 6.67277, step = 801 (0.207 sec)\n",
      "INFO:tensorflow:global_step/sec: 539.186\n",
      "INFO:tensorflow:loss = 3.5968654, step = 901 (0.185 sec)\n",
      "INFO:tensorflow:global_step/sec: 561.104\n",
      "INFO:tensorflow:loss = 4.879502, step = 1001 (0.178 sec)\n",
      "INFO:tensorflow:global_step/sec: 510.368\n",
      "INFO:tensorflow:loss = 2.8040276, step = 1101 (0.196 sec)\n",
      "INFO:tensorflow:global_step/sec: 559.313\n",
      "INFO:tensorflow:loss = 3.229626, step = 1201 (0.179 sec)\n",
      "INFO:tensorflow:global_step/sec: 592.108\n",
      "INFO:tensorflow:loss = 1.8813701, step = 1301 (0.169 sec)\n",
      "INFO:tensorflow:global_step/sec: 536.751\n",
      "INFO:tensorflow:loss = 4.428205, step = 1401 (0.187 sec)\n",
      "INFO:tensorflow:global_step/sec: 561.738\n",
      "INFO:tensorflow:loss = 5.9642506, step = 1501 (0.178 sec)\n",
      "INFO:tensorflow:global_step/sec: 565.662\n",
      "INFO:tensorflow:loss = 6.915029, step = 1601 (0.177 sec)\n",
      "INFO:tensorflow:global_step/sec: 592.162\n",
      "INFO:tensorflow:loss = 4.5560822, step = 1701 (0.169 sec)\n",
      "INFO:tensorflow:global_step/sec: 559.293\n",
      "INFO:tensorflow:loss = 5.301317, step = 1801 (0.179 sec)\n",
      "INFO:tensorflow:global_step/sec: 581.074\n",
      "INFO:tensorflow:loss = 8.699857, step = 1901 (0.172 sec)\n",
      "INFO:tensorflow:global_step/sec: 550.221\n",
      "INFO:tensorflow:loss = 6.4026737, step = 2001 (0.182 sec)\n",
      "INFO:tensorflow:global_step/sec: 556.752\n",
      "INFO:tensorflow:loss = 0.9720801, step = 2101 (0.180 sec)\n",
      "INFO:tensorflow:global_step/sec: 541.146\n",
      "INFO:tensorflow:loss = 1.5655112, step = 2201 (0.185 sec)\n",
      "INFO:tensorflow:global_step/sec: 507.357\n",
      "INFO:tensorflow:loss = 3.5310354, step = 2301 (0.197 sec)\n",
      "INFO:tensorflow:global_step/sec: 515.724\n",
      "INFO:tensorflow:loss = 2.3094876, step = 2401 (0.194 sec)\n",
      "INFO:tensorflow:global_step/sec: 485.468\n",
      "INFO:tensorflow:loss = 2.3200266, step = 2501 (0.206 sec)\n",
      "INFO:tensorflow:global_step/sec: 575.433\n",
      "INFO:tensorflow:loss = 2.4094136, step = 2601 (0.174 sec)\n",
      "INFO:tensorflow:global_step/sec: 557.492\n",
      "INFO:tensorflow:loss = 5.649624, step = 2701 (0.179 sec)\n",
      "INFO:tensorflow:global_step/sec: 547.551\n",
      "INFO:tensorflow:loss = 0.8154085, step = 2801 (0.183 sec)\n",
      "INFO:tensorflow:global_step/sec: 526.444\n",
      "INFO:tensorflow:loss = 0.626088, step = 2901 (0.190 sec)\n",
      "INFO:tensorflow:global_step/sec: 588.388\n",
      "INFO:tensorflow:loss = 4.037292, step = 3001 (0.170 sec)\n",
      "INFO:tensorflow:global_step/sec: 553.897\n",
      "INFO:tensorflow:loss = 2.064358, step = 3101 (0.181 sec)\n",
      "INFO:tensorflow:global_step/sec: 559.406\n",
      "INFO:tensorflow:loss = 8.555569, step = 3201 (0.179 sec)\n",
      "INFO:tensorflow:global_step/sec: 587.882\n",
      "INFO:tensorflow:loss = 2.3061445, step = 3301 (0.170 sec)\n",
      "INFO:tensorflow:global_step/sec: 545.43\n",
      "INFO:tensorflow:loss = 4.624447, step = 3401 (0.183 sec)\n",
      "INFO:tensorflow:global_step/sec: 555.256\n",
      "INFO:tensorflow:loss = 9.398867, step = 3501 (0.180 sec)\n",
      "INFO:tensorflow:global_step/sec: 589.738\n",
      "INFO:tensorflow:loss = 2.2885935, step = 3601 (0.170 sec)\n",
      "INFO:tensorflow:global_step/sec: 554.652\n",
      "INFO:tensorflow:loss = 4.7317863, step = 3701 (0.181 sec)\n",
      "INFO:tensorflow:global_step/sec: 510.378\n",
      "INFO:tensorflow:loss = 0.7580216, step = 3801 (0.196 sec)\n",
      "INFO:tensorflow:global_step/sec: 540.631\n",
      "INFO:tensorflow:loss = 1.0106803, step = 3901 (0.185 sec)\n",
      "INFO:tensorflow:global_step/sec: 554.967\n",
      "INFO:tensorflow:loss = 11.417442, step = 4001 (0.180 sec)\n",
      "INFO:tensorflow:global_step/sec: 592.852\n",
      "INFO:tensorflow:loss = 3.497775, step = 4101 (0.169 sec)\n",
      "INFO:tensorflow:global_step/sec: 553.1\n",
      "INFO:tensorflow:loss = 0.5235287, step = 4201 (0.181 sec)\n",
      "INFO:tensorflow:global_step/sec: 556.201\n",
      "INFO:tensorflow:loss = 4.482819, step = 4301 (0.180 sec)\n",
      "INFO:tensorflow:global_step/sec: 493.586\n",
      "INFO:tensorflow:loss = 0.7203172, step = 4401 (0.202 sec)\n",
      "INFO:tensorflow:global_step/sec: 566.37\n",
      "INFO:tensorflow:loss = 3.3190193, step = 4501 (0.176 sec)\n",
      "INFO:tensorflow:global_step/sec: 599.258\n",
      "INFO:tensorflow:loss = 2.521239, step = 4601 (0.167 sec)\n",
      "INFO:tensorflow:global_step/sec: 582.584\n",
      "INFO:tensorflow:loss = 0.19493693, step = 4701 (0.172 sec)\n",
      "INFO:tensorflow:global_step/sec: 601.859\n",
      "INFO:tensorflow:loss = 1.7330502, step = 4801 (0.166 sec)\n",
      "INFO:tensorflow:global_step/sec: 562.391\n",
      "INFO:tensorflow:loss = 0.23293334, step = 4901 (0.178 sec)\n",
      "INFO:tensorflow:global_step/sec: 574.307\n",
      "INFO:tensorflow:loss = 0.91665375, step = 5001 (0.174 sec)\n",
      "INFO:tensorflow:global_step/sec: 598.047\n",
      "INFO:tensorflow:loss = 1.3297483, step = 5101 (0.167 sec)\n",
      "INFO:tensorflow:global_step/sec: 573.634\n",
      "INFO:tensorflow:loss = 4.727416, step = 5201 (0.174 sec)\n",
      "INFO:tensorflow:global_step/sec: 568.586\n",
      "INFO:tensorflow:loss = 0.4865889, step = 5301 (0.176 sec)\n",
      "INFO:tensorflow:global_step/sec: 579.61\n",
      "INFO:tensorflow:loss = 1.7297722, step = 5401 (0.173 sec)\n",
      "INFO:tensorflow:global_step/sec: 566.98\n",
      "INFO:tensorflow:loss = 0.69531, step = 5501 (0.176 sec)\n",
      "INFO:tensorflow:global_step/sec: 572.606\n",
      "INFO:tensorflow:loss = 4.4069414, step = 5601 (0.175 sec)\n",
      "INFO:tensorflow:global_step/sec: 570.276\n",
      "INFO:tensorflow:loss = 4.0266323, step = 5701 (0.175 sec)\n",
      "INFO:tensorflow:global_step/sec: 602.536\n",
      "INFO:tensorflow:loss = 1.4129348, step = 5801 (0.166 sec)\n",
      "INFO:tensorflow:global_step/sec: 575.291\n",
      "INFO:tensorflow:loss = 0.7950038, step = 5901 (0.174 sec)\n",
      "INFO:tensorflow:global_step/sec: 562.828\n",
      "INFO:tensorflow:loss = 2.0884047, step = 6001 (0.178 sec)\n",
      "INFO:tensorflow:global_step/sec: 569.253\n",
      "INFO:tensorflow:loss = 0.689928, step = 6101 (0.176 sec)\n",
      "INFO:tensorflow:global_step/sec: 601.644\n",
      "INFO:tensorflow:loss = 1.335594, step = 6201 (0.166 sec)\n",
      "INFO:tensorflow:global_step/sec: 591.559\n",
      "INFO:tensorflow:loss = 2.8116152, step = 6301 (0.169 sec)\n",
      "INFO:tensorflow:global_step/sec: 553.581\n",
      "INFO:tensorflow:loss = 1.6355921, step = 6401 (0.181 sec)\n",
      "INFO:tensorflow:global_step/sec: 568.647\n",
      "INFO:tensorflow:loss = 0.30992338, step = 6501 (0.176 sec)\n",
      "INFO:tensorflow:global_step/sec: 563.739\n",
      "INFO:tensorflow:loss = 2.2629008, step = 6601 (0.177 sec)\n",
      "INFO:tensorflow:global_step/sec: 598.874\n",
      "INFO:tensorflow:loss = 0.5313872, step = 6701 (0.167 sec)\n",
      "INFO:tensorflow:global_step/sec: 597.75\n",
      "INFO:tensorflow:loss = 0.122529596, step = 6801 (0.167 sec)\n",
      "INFO:tensorflow:global_step/sec: 567.534\n",
      "INFO:tensorflow:loss = 0.23733628, step = 6901 (0.176 sec)\n",
      "INFO:tensorflow:global_step/sec: 570.744\n",
      "INFO:tensorflow:loss = 1.0906662, step = 7001 (0.175 sec)\n",
      "INFO:tensorflow:global_step/sec: 556.635\n",
      "INFO:tensorflow:loss = 0.03350097, step = 7101 (0.180 sec)\n"
     ]
    },
    {
     "name": "stdout",
     "output_type": "stream",
     "text": [
      "INFO:tensorflow:global_step/sec: 533.131\n",
      "INFO:tensorflow:loss = 0.38865897, step = 7201 (0.188 sec)\n",
      "INFO:tensorflow:global_step/sec: 613.046\n",
      "INFO:tensorflow:loss = 3.2670758, step = 7301 (0.163 sec)\n",
      "INFO:tensorflow:global_step/sec: 608.028\n",
      "INFO:tensorflow:loss = 0.68508476, step = 7401 (0.165 sec)\n",
      "INFO:tensorflow:global_step/sec: 609.07\n",
      "INFO:tensorflow:loss = 1.001829, step = 7501 (0.164 sec)\n",
      "INFO:tensorflow:global_step/sec: 604.766\n",
      "INFO:tensorflow:loss = 0.5344564, step = 7601 (0.165 sec)\n",
      "INFO:tensorflow:global_step/sec: 602.351\n",
      "INFO:tensorflow:loss = 0.27845195, step = 7701 (0.166 sec)\n",
      "INFO:tensorflow:global_step/sec: 603.662\n",
      "INFO:tensorflow:loss = 1.4816705, step = 7801 (0.166 sec)\n",
      "INFO:tensorflow:global_step/sec: 606.67\n",
      "INFO:tensorflow:loss = 0.84824955, step = 7901 (0.165 sec)\n",
      "INFO:tensorflow:global_step/sec: 617.872\n",
      "INFO:tensorflow:loss = 0.41792768, step = 8001 (0.162 sec)\n",
      "INFO:tensorflow:global_step/sec: 612.91\n",
      "INFO:tensorflow:loss = 6.938818, step = 8101 (0.163 sec)\n",
      "INFO:tensorflow:global_step/sec: 615.855\n",
      "INFO:tensorflow:loss = 0.39023125, step = 8201 (0.162 sec)\n",
      "INFO:tensorflow:global_step/sec: 612.97\n",
      "INFO:tensorflow:loss = 0.68390024, step = 8301 (0.163 sec)\n",
      "INFO:tensorflow:global_step/sec: 609.366\n",
      "INFO:tensorflow:loss = 0.19739035, step = 8401 (0.164 sec)\n",
      "INFO:tensorflow:global_step/sec: 604.821\n",
      "INFO:tensorflow:loss = 0.6409494, step = 8501 (0.165 sec)\n",
      "INFO:tensorflow:global_step/sec: 602.427\n",
      "INFO:tensorflow:loss = 0.2868023, step = 8601 (0.166 sec)\n",
      "INFO:tensorflow:global_step/sec: 606.686\n",
      "INFO:tensorflow:loss = 0.29263166, step = 8701 (0.165 sec)\n",
      "INFO:tensorflow:global_step/sec: 593.835\n",
      "INFO:tensorflow:loss = 0.8183394, step = 8801 (0.168 sec)\n",
      "INFO:tensorflow:global_step/sec: 600.319\n",
      "INFO:tensorflow:loss = 0.079612695, step = 8901 (0.167 sec)\n",
      "INFO:tensorflow:global_step/sec: 600.544\n",
      "INFO:tensorflow:loss = 2.40028, step = 9001 (0.166 sec)\n",
      "INFO:tensorflow:global_step/sec: 600.99\n",
      "INFO:tensorflow:loss = 0.0358828, step = 9101 (0.166 sec)\n",
      "INFO:tensorflow:global_step/sec: 607.297\n",
      "INFO:tensorflow:loss = 0.95645005, step = 9201 (0.165 sec)\n",
      "INFO:tensorflow:global_step/sec: 595.891\n",
      "INFO:tensorflow:loss = 0.22890285, step = 9301 (0.168 sec)\n",
      "INFO:tensorflow:global_step/sec: 529.568\n",
      "INFO:tensorflow:loss = 0.104411386, step = 9401 (0.189 sec)\n",
      "INFO:tensorflow:global_step/sec: 567.895\n",
      "INFO:tensorflow:loss = 0.6684867, step = 9501 (0.176 sec)\n",
      "INFO:tensorflow:global_step/sec: 598.773\n",
      "INFO:tensorflow:loss = 0.040361308, step = 9601 (0.167 sec)\n",
      "INFO:tensorflow:global_step/sec: 604.003\n",
      "INFO:tensorflow:loss = 0.16475497, step = 9701 (0.166 sec)\n",
      "INFO:tensorflow:global_step/sec: 594.513\n",
      "INFO:tensorflow:loss = 0.4137538, step = 9801 (0.168 sec)\n",
      "INFO:tensorflow:global_step/sec: 581.139\n",
      "INFO:tensorflow:loss = 0.2921534, step = 9901 (0.173 sec)\n",
      "INFO:tensorflow:global_step/sec: 518.868\n",
      "INFO:tensorflow:loss = 0.5483128, step = 10001 (0.192 sec)\n",
      "INFO:tensorflow:global_step/sec: 590.361\n",
      "INFO:tensorflow:loss = 0.7321422, step = 10101 (0.169 sec)\n",
      "INFO:tensorflow:global_step/sec: 591.132\n",
      "INFO:tensorflow:loss = 0.096053176, step = 10201 (0.169 sec)\n",
      "INFO:tensorflow:global_step/sec: 600.373\n",
      "INFO:tensorflow:loss = 0.08080805, step = 10301 (0.166 sec)\n",
      "INFO:tensorflow:global_step/sec: 600.194\n",
      "INFO:tensorflow:loss = 0.11934087, step = 10401 (0.167 sec)\n",
      "INFO:tensorflow:global_step/sec: 592.933\n",
      "INFO:tensorflow:loss = 0.1060939, step = 10501 (0.169 sec)\n",
      "INFO:tensorflow:global_step/sec: 596.983\n",
      "INFO:tensorflow:loss = 0.8410035, step = 10601 (0.168 sec)\n",
      "INFO:tensorflow:global_step/sec: 594.336\n",
      "INFO:tensorflow:loss = 0.046045087, step = 10701 (0.168 sec)\n",
      "INFO:tensorflow:global_step/sec: 600.547\n",
      "INFO:tensorflow:loss = 0.19938308, step = 10801 (0.167 sec)\n",
      "INFO:tensorflow:global_step/sec: 594.096\n",
      "INFO:tensorflow:loss = 0.25318068, step = 10901 (0.168 sec)\n",
      "INFO:tensorflow:global_step/sec: 590.483\n",
      "INFO:tensorflow:loss = 0.36545268, step = 11001 (0.169 sec)\n",
      "INFO:tensorflow:global_step/sec: 573.154\n",
      "INFO:tensorflow:loss = 0.21475255, step = 11101 (0.175 sec)\n",
      "INFO:tensorflow:global_step/sec: 574.06\n",
      "INFO:tensorflow:loss = 0.10477048, step = 11201 (0.174 sec)\n",
      "INFO:tensorflow:global_step/sec: 579.949\n",
      "INFO:tensorflow:loss = 0.6884893, step = 11301 (0.173 sec)\n",
      "INFO:tensorflow:global_step/sec: 582.741\n",
      "INFO:tensorflow:loss = 0.3302488, step = 11401 (0.171 sec)\n",
      "INFO:tensorflow:global_step/sec: 600.666\n",
      "INFO:tensorflow:loss = 0.035219666, step = 11501 (0.166 sec)\n",
      "INFO:tensorflow:global_step/sec: 584.429\n",
      "INFO:tensorflow:loss = 0.9569596, step = 11601 (0.171 sec)\n",
      "INFO:tensorflow:global_step/sec: 597.711\n",
      "INFO:tensorflow:loss = 0.4738503, step = 11701 (0.167 sec)\n",
      "INFO:tensorflow:global_step/sec: 588.394\n",
      "INFO:tensorflow:loss = 0.02726719, step = 11801 (0.170 sec)\n",
      "INFO:tensorflow:global_step/sec: 574.846\n",
      "INFO:tensorflow:loss = 0.14474031, step = 11901 (0.174 sec)\n",
      "INFO:tensorflow:global_step/sec: 566.559\n",
      "INFO:tensorflow:loss = 0.044667188, step = 12001 (0.177 sec)\n",
      "INFO:tensorflow:global_step/sec: 595.458\n",
      "INFO:tensorflow:loss = 0.47471556, step = 12101 (0.168 sec)\n",
      "INFO:tensorflow:global_step/sec: 594.092\n",
      "INFO:tensorflow:loss = 0.102518834, step = 12201 (0.168 sec)\n",
      "INFO:tensorflow:global_step/sec: 588.235\n",
      "INFO:tensorflow:loss = 0.30164087, step = 12301 (0.170 sec)\n",
      "INFO:tensorflow:global_step/sec: 594.82\n",
      "INFO:tensorflow:loss = 0.14895618, step = 12401 (0.168 sec)\n",
      "INFO:tensorflow:global_step/sec: 579.952\n",
      "INFO:tensorflow:loss = 0.07091007, step = 12501 (0.173 sec)\n",
      "INFO:tensorflow:global_step/sec: 588.26\n",
      "INFO:tensorflow:loss = 0.12458931, step = 12601 (0.170 sec)\n",
      "INFO:tensorflow:global_step/sec: 599.463\n",
      "INFO:tensorflow:loss = 0.5536771, step = 12701 (0.167 sec)\n",
      "INFO:tensorflow:global_step/sec: 585.628\n",
      "INFO:tensorflow:loss = 0.5705245, step = 12801 (0.171 sec)\n",
      "INFO:tensorflow:global_step/sec: 579.458\n",
      "INFO:tensorflow:loss = 0.23418128, step = 12901 (0.173 sec)\n",
      "INFO:tensorflow:global_step/sec: 600.359\n",
      "INFO:tensorflow:loss = 0.1769062, step = 13001 (0.167 sec)\n",
      "INFO:tensorflow:global_step/sec: 608.639\n",
      "INFO:tensorflow:loss = 0.08345694, step = 13101 (0.164 sec)\n",
      "INFO:tensorflow:global_step/sec: 586.841\n",
      "INFO:tensorflow:loss = 0.13071081, step = 13201 (0.170 sec)\n",
      "INFO:tensorflow:global_step/sec: 582.068\n",
      "INFO:tensorflow:loss = 0.6619658, step = 13301 (0.172 sec)\n",
      "INFO:tensorflow:global_step/sec: 585.446\n",
      "INFO:tensorflow:loss = 0.0788286, step = 13401 (0.171 sec)\n",
      "INFO:tensorflow:global_step/sec: 586.954\n",
      "INFO:tensorflow:loss = 0.30052102, step = 13501 (0.170 sec)\n",
      "INFO:tensorflow:global_step/sec: 585.47\n",
      "INFO:tensorflow:loss = 0.18587475, step = 13601 (0.171 sec)\n",
      "INFO:tensorflow:global_step/sec: 586.087\n",
      "INFO:tensorflow:loss = 0.16091175, step = 13701 (0.171 sec)\n",
      "INFO:tensorflow:global_step/sec: 589.393\n",
      "INFO:tensorflow:loss = 0.057691623, step = 13801 (0.170 sec)\n",
      "INFO:tensorflow:global_step/sec: 578.148\n",
      "INFO:tensorflow:loss = 0.2612568, step = 13901 (0.173 sec)\n",
      "INFO:tensorflow:global_step/sec: 581.284\n",
      "INFO:tensorflow:loss = 0.23685268, step = 14001 (0.172 sec)\n",
      "INFO:tensorflow:global_step/sec: 576.472\n",
      "INFO:tensorflow:loss = 0.54347926, step = 14101 (0.174 sec)\n",
      "INFO:tensorflow:global_step/sec: 579.314\n",
      "INFO:tensorflow:loss = 0.026972119, step = 14201 (0.173 sec)\n",
      "INFO:tensorflow:global_step/sec: 577.48\n",
      "INFO:tensorflow:loss = 0.3099962, step = 14301 (0.173 sec)\n",
      "INFO:tensorflow:global_step/sec: 588.315\n",
      "INFO:tensorflow:loss = 0.13305916, step = 14401 (0.170 sec)\n",
      "INFO:tensorflow:global_step/sec: 571.236\n",
      "INFO:tensorflow:loss = 0.0067458125, step = 14501 (0.175 sec)\n",
      "INFO:tensorflow:global_step/sec: 581.273\n",
      "INFO:tensorflow:loss = 0.031753924, step = 14601 (0.172 sec)\n",
      "INFO:tensorflow:global_step/sec: 574.914\n",
      "INFO:tensorflow:loss = 0.3539958, step = 14701 (0.174 sec)\n",
      "INFO:tensorflow:global_step/sec: 573.046\n",
      "INFO:tensorflow:loss = 0.022458624, step = 14801 (0.174 sec)\n",
      "INFO:tensorflow:global_step/sec: 567.067\n",
      "INFO:tensorflow:loss = 0.2266817, step = 14901 (0.176 sec)\n",
      "INFO:tensorflow:global_step/sec: 569.201\n",
      "INFO:tensorflow:loss = 0.059342492, step = 15001 (0.176 sec)\n",
      "INFO:tensorflow:global_step/sec: 563.983\n",
      "INFO:tensorflow:loss = 0.28319106, step = 15101 (0.177 sec)\n",
      "INFO:tensorflow:global_step/sec: 573.76\n",
      "INFO:tensorflow:loss = 0.061457805, step = 15201 (0.175 sec)\n",
      "INFO:tensorflow:global_step/sec: 569.029\n",
      "INFO:tensorflow:loss = 0.18049274, step = 15301 (0.175 sec)\n"
     ]
    },
    {
     "name": "stdout",
     "output_type": "stream",
     "text": [
      "INFO:tensorflow:global_step/sec: 597.493\n",
      "INFO:tensorflow:loss = 0.021493156, step = 15401 (0.167 sec)\n",
      "INFO:tensorflow:global_step/sec: 613.633\n",
      "INFO:tensorflow:loss = 0.06850815, step = 15501 (0.163 sec)\n",
      "INFO:tensorflow:global_step/sec: 612.813\n",
      "INFO:tensorflow:loss = 0.015922692, step = 15601 (0.163 sec)\n",
      "INFO:tensorflow:global_step/sec: 611.901\n",
      "INFO:tensorflow:loss = 0.122007824, step = 15701 (0.163 sec)\n",
      "INFO:tensorflow:global_step/sec: 599.841\n",
      "INFO:tensorflow:loss = 0.1880184, step = 15801 (0.167 sec)\n",
      "INFO:tensorflow:global_step/sec: 613.486\n",
      "INFO:tensorflow:loss = 0.111739606, step = 15901 (0.163 sec)\n",
      "INFO:tensorflow:global_step/sec: 607.548\n",
      "INFO:tensorflow:loss = 0.044935964, step = 16001 (0.165 sec)\n",
      "INFO:tensorflow:global_step/sec: 611.049\n",
      "INFO:tensorflow:loss = 0.3434081, step = 16101 (0.164 sec)\n",
      "INFO:tensorflow:global_step/sec: 615.244\n",
      "INFO:tensorflow:loss = 0.20359433, step = 16201 (0.163 sec)\n",
      "INFO:tensorflow:global_step/sec: 604.278\n",
      "INFO:tensorflow:loss = 0.08931965, step = 16301 (0.165 sec)\n",
      "INFO:tensorflow:global_step/sec: 614.193\n",
      "INFO:tensorflow:loss = 0.06593216, step = 16401 (0.163 sec)\n",
      "INFO:tensorflow:global_step/sec: 610.561\n",
      "INFO:tensorflow:loss = 0.06565569, step = 16501 (0.164 sec)\n",
      "INFO:tensorflow:global_step/sec: 605.572\n",
      "INFO:tensorflow:loss = 0.08794807, step = 16601 (0.165 sec)\n",
      "INFO:tensorflow:global_step/sec: 605.272\n",
      "INFO:tensorflow:loss = 0.031909976, step = 16701 (0.165 sec)\n",
      "INFO:tensorflow:global_step/sec: 600.896\n",
      "INFO:tensorflow:loss = 0.099402845, step = 16801 (0.166 sec)\n",
      "INFO:tensorflow:global_step/sec: 607.128\n",
      "INFO:tensorflow:loss = 0.645476, step = 16901 (0.165 sec)\n",
      "INFO:tensorflow:global_step/sec: 617.165\n",
      "INFO:tensorflow:loss = 0.012340493, step = 17001 (0.162 sec)\n",
      "INFO:tensorflow:global_step/sec: 604.054\n",
      "INFO:tensorflow:loss = 1.2361203, step = 17101 (0.165 sec)\n",
      "INFO:tensorflow:global_step/sec: 605.929\n",
      "INFO:tensorflow:loss = 0.11656995, step = 17201 (0.165 sec)\n",
      "INFO:tensorflow:global_step/sec: 612.277\n",
      "INFO:tensorflow:loss = 0.083833806, step = 17301 (0.163 sec)\n",
      "INFO:tensorflow:global_step/sec: 603.238\n",
      "INFO:tensorflow:loss = 0.11110972, step = 17401 (0.166 sec)\n",
      "INFO:tensorflow:global_step/sec: 599.477\n",
      "INFO:tensorflow:loss = 0.053760912, step = 17501 (0.167 sec)\n",
      "INFO:tensorflow:global_step/sec: 603.15\n",
      "INFO:tensorflow:loss = 0.016767312, step = 17601 (0.166 sec)\n",
      "INFO:tensorflow:global_step/sec: 597.04\n",
      "INFO:tensorflow:loss = 0.010108843, step = 17701 (0.167 sec)\n",
      "INFO:tensorflow:global_step/sec: 610.151\n",
      "INFO:tensorflow:loss = 0.066104226, step = 17801 (0.164 sec)\n",
      "INFO:tensorflow:global_step/sec: 606.814\n",
      "INFO:tensorflow:loss = 0.24202009, step = 17901 (0.165 sec)\n",
      "INFO:tensorflow:global_step/sec: 612.1\n",
      "INFO:tensorflow:loss = 0.035576623, step = 18001 (0.163 sec)\n",
      "INFO:tensorflow:global_step/sec: 603.654\n",
      "INFO:tensorflow:loss = 0.051034056, step = 18101 (0.166 sec)\n",
      "INFO:tensorflow:global_step/sec: 602.068\n",
      "INFO:tensorflow:loss = 0.10964565, step = 18201 (0.166 sec)\n",
      "INFO:tensorflow:global_step/sec: 595.993\n",
      "INFO:tensorflow:loss = 0.1463711, step = 18301 (0.168 sec)\n",
      "INFO:tensorflow:global_step/sec: 609.055\n",
      "INFO:tensorflow:loss = 0.089156576, step = 18401 (0.164 sec)\n",
      "INFO:tensorflow:global_step/sec: 592.367\n",
      "INFO:tensorflow:loss = 0.16223487, step = 18501 (0.169 sec)\n",
      "INFO:tensorflow:global_step/sec: 595.356\n",
      "INFO:tensorflow:loss = 0.11523609, step = 18601 (0.168 sec)\n",
      "INFO:tensorflow:global_step/sec: 605.598\n",
      "INFO:tensorflow:loss = 0.1058431, step = 18701 (0.165 sec)\n",
      "INFO:tensorflow:global_step/sec: 602.827\n",
      "INFO:tensorflow:loss = 0.12923726, step = 18801 (0.166 sec)\n",
      "INFO:tensorflow:global_step/sec: 594.086\n",
      "INFO:tensorflow:loss = 0.0016660308, step = 18901 (0.168 sec)\n",
      "INFO:tensorflow:global_step/sec: 592.354\n",
      "INFO:tensorflow:loss = 0.008124206, step = 19001 (0.169 sec)\n",
      "INFO:tensorflow:global_step/sec: 580.173\n",
      "INFO:tensorflow:loss = 0.04470828, step = 19101 (0.172 sec)\n",
      "INFO:tensorflow:global_step/sec: 593.486\n",
      "INFO:tensorflow:loss = 0.01879401, step = 19201 (0.168 sec)\n",
      "INFO:tensorflow:global_step/sec: 597.404\n",
      "INFO:tensorflow:loss = 0.12698375, step = 19301 (0.167 sec)\n",
      "INFO:tensorflow:global_step/sec: 590.653\n",
      "INFO:tensorflow:loss = 0.06278167, step = 19401 (0.169 sec)\n",
      "INFO:tensorflow:global_step/sec: 603.307\n",
      "INFO:tensorflow:loss = 0.07248369, step = 19501 (0.166 sec)\n",
      "INFO:tensorflow:global_step/sec: 600.63\n",
      "INFO:tensorflow:loss = 0.19875261, step = 19601 (0.166 sec)\n",
      "INFO:tensorflow:global_step/sec: 602.452\n",
      "INFO:tensorflow:loss = 0.084658094, step = 19701 (0.166 sec)\n",
      "INFO:tensorflow:global_step/sec: 592.979\n",
      "INFO:tensorflow:loss = 0.03683045, step = 19801 (0.169 sec)\n",
      "INFO:tensorflow:global_step/sec: 594.962\n",
      "INFO:tensorflow:loss = 0.056858726, step = 19901 (0.168 sec)\n",
      "INFO:tensorflow:global_step/sec: 595.117\n",
      "INFO:tensorflow:loss = 0.00676391, step = 20001 (0.168 sec)\n",
      "INFO:tensorflow:global_step/sec: 589.491\n",
      "INFO:tensorflow:loss = 0.1131962, step = 20101 (0.170 sec)\n",
      "INFO:tensorflow:global_step/sec: 612.831\n",
      "INFO:tensorflow:loss = 0.062130574, step = 20201 (0.163 sec)\n",
      "INFO:tensorflow:global_step/sec: 596.054\n",
      "INFO:tensorflow:loss = 0.0761376, step = 20301 (0.168 sec)\n",
      "INFO:tensorflow:global_step/sec: 596.925\n",
      "INFO:tensorflow:loss = 0.025448529, step = 20401 (0.168 sec)\n",
      "INFO:tensorflow:global_step/sec: 590.741\n",
      "INFO:tensorflow:loss = 0.11678687, step = 20501 (0.169 sec)\n",
      "INFO:tensorflow:global_step/sec: 583.52\n",
      "INFO:tensorflow:loss = 0.116236106, step = 20601 (0.171 sec)\n",
      "INFO:tensorflow:global_step/sec: 599.286\n",
      "INFO:tensorflow:loss = 0.0022593301, step = 20701 (0.167 sec)\n",
      "INFO:tensorflow:global_step/sec: 604.55\n",
      "INFO:tensorflow:loss = 0.08835938, step = 20801 (0.165 sec)\n",
      "INFO:tensorflow:global_step/sec: 598.659\n",
      "INFO:tensorflow:loss = 0.09326403, step = 20901 (0.167 sec)\n",
      "INFO:tensorflow:global_step/sec: 593.895\n",
      "INFO:tensorflow:loss = 0.0053509483, step = 21001 (0.168 sec)\n",
      "INFO:tensorflow:global_step/sec: 613.064\n",
      "INFO:tensorflow:loss = 0.11346139, step = 21101 (0.163 sec)\n",
      "INFO:tensorflow:global_step/sec: 593.12\n",
      "INFO:tensorflow:loss = 0.016753156, step = 21201 (0.169 sec)\n",
      "INFO:tensorflow:global_step/sec: 586.927\n",
      "INFO:tensorflow:loss = 0.12216475, step = 21301 (0.170 sec)\n",
      "INFO:tensorflow:global_step/sec: 578.825\n",
      "INFO:tensorflow:loss = 0.06325718, step = 21401 (0.173 sec)\n",
      "INFO:tensorflow:global_step/sec: 588.602\n",
      "INFO:tensorflow:loss = 0.051669586, step = 21501 (0.170 sec)\n",
      "INFO:tensorflow:global_step/sec: 578.89\n",
      "INFO:tensorflow:loss = 0.025339268, step = 21601 (0.173 sec)\n",
      "INFO:tensorflow:global_step/sec: 581.446\n",
      "INFO:tensorflow:loss = 0.043803126, step = 21701 (0.172 sec)\n",
      "INFO:tensorflow:global_step/sec: 597.211\n",
      "INFO:tensorflow:loss = 0.06598066, step = 21801 (0.167 sec)\n",
      "INFO:tensorflow:global_step/sec: 583.233\n",
      "INFO:tensorflow:loss = 0.020937484, step = 21901 (0.171 sec)\n",
      "INFO:tensorflow:global_step/sec: 584.621\n",
      "INFO:tensorflow:loss = 0.0045455284, step = 22001 (0.171 sec)\n",
      "INFO:tensorflow:global_step/sec: 580.673\n",
      "INFO:tensorflow:loss = 0.0185409, step = 22101 (0.172 sec)\n",
      "INFO:tensorflow:global_step/sec: 588.692\n",
      "INFO:tensorflow:loss = 0.036005907, step = 22201 (0.170 sec)\n",
      "INFO:tensorflow:global_step/sec: 609.047\n",
      "INFO:tensorflow:loss = 0.00060039293, step = 22301 (0.164 sec)\n",
      "INFO:tensorflow:global_step/sec: 593.98\n",
      "INFO:tensorflow:loss = 0.07495487, step = 22401 (0.168 sec)\n",
      "INFO:tensorflow:global_step/sec: 606.98\n",
      "INFO:tensorflow:loss = 0.014378105, step = 22501 (0.165 sec)\n",
      "INFO:tensorflow:global_step/sec: 590.594\n",
      "INFO:tensorflow:loss = 0.003752851, step = 22601 (0.169 sec)\n",
      "INFO:tensorflow:global_step/sec: 592.042\n",
      "INFO:tensorflow:loss = 0.06251739, step = 22701 (0.169 sec)\n",
      "INFO:tensorflow:global_step/sec: 587.489\n",
      "INFO:tensorflow:loss = 0.017097272, step = 22801 (0.170 sec)\n",
      "INFO:tensorflow:global_step/sec: 578.078\n",
      "INFO:tensorflow:loss = 0.029653013, step = 22901 (0.173 sec)\n",
      "INFO:tensorflow:global_step/sec: 579.113\n",
      "INFO:tensorflow:loss = 0.017617473, step = 23001 (0.173 sec)\n",
      "INFO:tensorflow:global_step/sec: 584.768\n",
      "INFO:tensorflow:loss = 0.023035908, step = 23101 (0.171 sec)\n",
      "INFO:tensorflow:global_step/sec: 580.217\n",
      "INFO:tensorflow:loss = 0.0969257, step = 23201 (0.172 sec)\n",
      "INFO:tensorflow:global_step/sec: 579.996\n",
      "INFO:tensorflow:loss = 0.014433991, step = 23301 (0.172 sec)\n",
      "INFO:tensorflow:global_step/sec: 571.05\n",
      "INFO:tensorflow:loss = 0.19221283, step = 23401 (0.175 sec)\n"
     ]
    },
    {
     "name": "stdout",
     "output_type": "stream",
     "text": [
      "INFO:tensorflow:global_step/sec: 596.709\n",
      "INFO:tensorflow:loss = 0.012947319, step = 23501 (0.168 sec)\n",
      "INFO:tensorflow:global_step/sec: 605.621\n",
      "INFO:tensorflow:loss = 0.025351752, step = 23601 (0.165 sec)\n",
      "INFO:tensorflow:global_step/sec: 614.753\n",
      "INFO:tensorflow:loss = 0.008851003, step = 23701 (0.163 sec)\n",
      "INFO:tensorflow:global_step/sec: 620.751\n",
      "INFO:tensorflow:loss = 0.046305515, step = 23801 (0.161 sec)\n",
      "INFO:tensorflow:global_step/sec: 613.614\n",
      "INFO:tensorflow:loss = 0.009757763, step = 23901 (0.163 sec)\n",
      "INFO:tensorflow:global_step/sec: 618.682\n",
      "INFO:tensorflow:loss = 0.029600317, step = 24001 (0.162 sec)\n",
      "INFO:tensorflow:global_step/sec: 611.827\n",
      "INFO:tensorflow:loss = 0.017131384, step = 24101 (0.163 sec)\n",
      "INFO:tensorflow:global_step/sec: 612.245\n",
      "INFO:tensorflow:loss = 0.025407232, step = 24201 (0.163 sec)\n",
      "INFO:tensorflow:global_step/sec: 613.561\n",
      "INFO:tensorflow:loss = 0.005627384, step = 24301 (0.163 sec)\n",
      "INFO:tensorflow:global_step/sec: 611.725\n",
      "INFO:tensorflow:loss = 0.05720427, step = 24401 (0.163 sec)\n",
      "INFO:tensorflow:global_step/sec: 614.773\n",
      "INFO:tensorflow:loss = 0.041803025, step = 24501 (0.163 sec)\n",
      "INFO:tensorflow:global_step/sec: 607.316\n",
      "INFO:tensorflow:loss = 0.114179775, step = 24601 (0.165 sec)\n",
      "INFO:tensorflow:global_step/sec: 610.825\n",
      "INFO:tensorflow:loss = 0.017028388, step = 24701 (0.164 sec)\n",
      "INFO:tensorflow:global_step/sec: 612.31\n",
      "INFO:tensorflow:loss = 0.0428722, step = 24801 (0.163 sec)\n",
      "INFO:tensorflow:global_step/sec: 610.661\n",
      "INFO:tensorflow:loss = 0.12653032, step = 24901 (0.164 sec)\n",
      "INFO:tensorflow:global_step/sec: 607.84\n",
      "INFO:tensorflow:loss = 0.07548125, step = 25001 (0.165 sec)\n",
      "INFO:tensorflow:global_step/sec: 612.542\n",
      "INFO:tensorflow:loss = 0.07288194, step = 25101 (0.163 sec)\n",
      "INFO:tensorflow:global_step/sec: 601.562\n",
      "INFO:tensorflow:loss = 0.009471344, step = 25201 (0.166 sec)\n",
      "INFO:tensorflow:global_step/sec: 609.055\n",
      "INFO:tensorflow:loss = 0.005775228, step = 25301 (0.164 sec)\n",
      "INFO:tensorflow:global_step/sec: 606.7\n",
      "INFO:tensorflow:loss = 0.014464233, step = 25401 (0.165 sec)\n",
      "INFO:tensorflow:global_step/sec: 597.897\n",
      "INFO:tensorflow:loss = 0.03297771, step = 25501 (0.167 sec)\n",
      "INFO:tensorflow:global_step/sec: 609.76\n",
      "INFO:tensorflow:loss = 0.008606596, step = 25601 (0.164 sec)\n",
      "INFO:tensorflow:global_step/sec: 616.317\n",
      "INFO:tensorflow:loss = 0.018918809, step = 25701 (0.162 sec)\n",
      "INFO:tensorflow:global_step/sec: 598.53\n",
      "INFO:tensorflow:loss = 0.038295973, step = 25801 (0.167 sec)\n",
      "INFO:tensorflow:global_step/sec: 597.496\n",
      "INFO:tensorflow:loss = 0.18402208, step = 25901 (0.167 sec)\n",
      "INFO:tensorflow:global_step/sec: 613.192\n",
      "INFO:tensorflow:loss = 0.03052786, step = 26001 (0.163 sec)\n",
      "INFO:tensorflow:global_step/sec: 618.567\n",
      "INFO:tensorflow:loss = 0.013597014, step = 26101 (0.162 sec)\n",
      "INFO:tensorflow:global_step/sec: 601.641\n",
      "INFO:tensorflow:loss = 0.026283354, step = 26201 (0.166 sec)\n",
      "INFO:tensorflow:global_step/sec: 607.91\n",
      "INFO:tensorflow:loss = 0.057506204, step = 26301 (0.164 sec)\n",
      "INFO:tensorflow:global_step/sec: 599.348\n",
      "INFO:tensorflow:loss = 0.042854443, step = 26401 (0.167 sec)\n",
      "INFO:tensorflow:global_step/sec: 595.167\n",
      "INFO:tensorflow:loss = 0.049392037, step = 26501 (0.168 sec)\n",
      "INFO:tensorflow:global_step/sec: 606.542\n",
      "INFO:tensorflow:loss = 0.05504701, step = 26601 (0.165 sec)\n",
      "INFO:tensorflow:global_step/sec: 598.441\n",
      "INFO:tensorflow:loss = 0.03812935, step = 26701 (0.167 sec)\n",
      "INFO:tensorflow:global_step/sec: 591.918\n",
      "INFO:tensorflow:loss = 0.014856704, step = 26801 (0.169 sec)\n",
      "INFO:tensorflow:global_step/sec: 598.377\n",
      "INFO:tensorflow:loss = 0.022502372, step = 26901 (0.167 sec)\n",
      "INFO:tensorflow:global_step/sec: 607.054\n",
      "INFO:tensorflow:loss = 0.017235555, step = 27001 (0.165 sec)\n",
      "INFO:tensorflow:global_step/sec: 592.723\n",
      "INFO:tensorflow:loss = 0.03542579, step = 27101 (0.169 sec)\n",
      "INFO:tensorflow:global_step/sec: 594.11\n",
      "INFO:tensorflow:loss = 0.18107113, step = 27201 (0.168 sec)\n",
      "INFO:tensorflow:global_step/sec: 605.793\n",
      "INFO:tensorflow:loss = 0.07463909, step = 27301 (0.165 sec)\n",
      "INFO:tensorflow:global_step/sec: 607.905\n",
      "INFO:tensorflow:loss = 0.007410126, step = 27401 (0.165 sec)\n",
      "INFO:tensorflow:global_step/sec: 595.998\n",
      "INFO:tensorflow:loss = 0.03198067, step = 27501 (0.168 sec)\n",
      "INFO:tensorflow:global_step/sec: 595.483\n",
      "INFO:tensorflow:loss = 0.02059405, step = 27601 (0.168 sec)\n",
      "INFO:tensorflow:global_step/sec: 597.835\n",
      "INFO:tensorflow:loss = 0.0020422, step = 27701 (0.167 sec)\n",
      "INFO:tensorflow:global_step/sec: 601.873\n",
      "INFO:tensorflow:loss = 0.03548571, step = 27801 (0.166 sec)\n",
      "INFO:tensorflow:global_step/sec: 612.482\n",
      "INFO:tensorflow:loss = 0.043034617, step = 27901 (0.163 sec)\n",
      "INFO:tensorflow:global_step/sec: 589.696\n",
      "INFO:tensorflow:loss = 0.004913075, step = 28001 (0.170 sec)\n",
      "INFO:tensorflow:global_step/sec: 596.598\n",
      "INFO:tensorflow:loss = 0.0032645618, step = 28101 (0.168 sec)\n",
      "INFO:tensorflow:global_step/sec: 590.055\n",
      "INFO:tensorflow:loss = 0.045739368, step = 28201 (0.169 sec)\n",
      "INFO:tensorflow:global_step/sec: 588.64\n",
      "INFO:tensorflow:loss = 0.008108573, step = 28301 (0.170 sec)\n",
      "INFO:tensorflow:global_step/sec: 589.763\n",
      "INFO:tensorflow:loss = 0.010955225, step = 28401 (0.170 sec)\n",
      "INFO:tensorflow:global_step/sec: 580.885\n",
      "INFO:tensorflow:loss = 0.012657886, step = 28501 (0.172 sec)\n",
      "INFO:tensorflow:global_step/sec: 590.877\n",
      "INFO:tensorflow:loss = 0.11438705, step = 28601 (0.169 sec)\n",
      "INFO:tensorflow:global_step/sec: 598.322\n",
      "INFO:tensorflow:loss = 0.009539399, step = 28701 (0.167 sec)\n",
      "INFO:tensorflow:global_step/sec: 592.814\n",
      "INFO:tensorflow:loss = 0.01257221, step = 28801 (0.169 sec)\n",
      "INFO:tensorflow:global_step/sec: 583.284\n",
      "INFO:tensorflow:loss = 0.03651355, step = 28901 (0.171 sec)\n",
      "INFO:tensorflow:global_step/sec: 598.255\n",
      "INFO:tensorflow:loss = 0.03102096, step = 29001 (0.167 sec)\n",
      "INFO:tensorflow:global_step/sec: 585.802\n",
      "INFO:tensorflow:loss = 0.057154886, step = 29101 (0.171 sec)\n",
      "INFO:tensorflow:global_step/sec: 580.026\n",
      "INFO:tensorflow:loss = 0.03935694, step = 29201 (0.173 sec)\n",
      "INFO:tensorflow:global_step/sec: 578.108\n",
      "INFO:tensorflow:loss = 0.042587392, step = 29301 (0.173 sec)\n",
      "INFO:tensorflow:global_step/sec: 579.545\n",
      "INFO:tensorflow:loss = 0.0062076277, step = 29401 (0.172 sec)\n",
      "INFO:tensorflow:global_step/sec: 574.944\n",
      "INFO:tensorflow:loss = 0.0034192347, step = 29501 (0.174 sec)\n",
      "INFO:tensorflow:global_step/sec: 583.546\n",
      "INFO:tensorflow:loss = 0.03226087, step = 29601 (0.171 sec)\n",
      "INFO:tensorflow:global_step/sec: 591.705\n",
      "INFO:tensorflow:loss = 0.00985696, step = 29701 (0.169 sec)\n",
      "INFO:tensorflow:global_step/sec: 576.509\n",
      "INFO:tensorflow:loss = 0.030087268, step = 29801 (0.173 sec)\n",
      "INFO:tensorflow:global_step/sec: 583.076\n",
      "INFO:tensorflow:loss = 0.007699499, step = 29901 (0.172 sec)\n",
      "INFO:tensorflow:global_step/sec: 585.607\n",
      "INFO:tensorflow:loss = 0.017321311, step = 30001 (0.171 sec)\n",
      "INFO:tensorflow:global_step/sec: 585.439\n",
      "INFO:tensorflow:loss = 0.019371158, step = 30101 (0.171 sec)\n",
      "INFO:tensorflow:global_step/sec: 584.256\n",
      "INFO:tensorflow:loss = 0.008097853, step = 30201 (0.171 sec)\n",
      "INFO:tensorflow:global_step/sec: 575.138\n",
      "INFO:tensorflow:loss = 0.019318154, step = 30301 (0.174 sec)\n",
      "INFO:tensorflow:global_step/sec: 569.457\n",
      "INFO:tensorflow:loss = 0.0014773807, step = 30401 (0.176 sec)\n",
      "INFO:tensorflow:global_step/sec: 594.393\n",
      "INFO:tensorflow:loss = 0.015876438, step = 30501 (0.168 sec)\n",
      "INFO:tensorflow:global_step/sec: 586.948\n",
      "INFO:tensorflow:loss = 0.0277857, step = 30601 (0.170 sec)\n",
      "INFO:tensorflow:global_step/sec: 618.101\n",
      "INFO:tensorflow:loss = 0.033975776, step = 30701 (0.162 sec)\n",
      "INFO:tensorflow:global_step/sec: 588.997\n",
      "INFO:tensorflow:loss = 0.045198753, step = 30801 (0.170 sec)\n",
      "INFO:tensorflow:global_step/sec: 582.985\n",
      "INFO:tensorflow:loss = 0.061364945, step = 30901 (0.172 sec)\n",
      "INFO:tensorflow:global_step/sec: 583.073\n",
      "INFO:tensorflow:loss = 0.021633416, step = 31001 (0.172 sec)\n",
      "INFO:tensorflow:global_step/sec: 606.535\n",
      "INFO:tensorflow:loss = 0.014824574, step = 31101 (0.165 sec)\n",
      "INFO:tensorflow:global_step/sec: 602.17\n",
      "INFO:tensorflow:loss = 0.081450224, step = 31201 (0.166 sec)\n",
      "INFO:tensorflow:global_step/sec: 575.434\n",
      "INFO:tensorflow:loss = 0.012853513, step = 31301 (0.174 sec)\n",
      "INFO:tensorflow:global_step/sec: 580.827\n",
      "INFO:tensorflow:loss = 0.03924483, step = 31401 (0.172 sec)\n",
      "INFO:tensorflow:global_step/sec: 601.243\n",
      "INFO:tensorflow:loss = 0.0014073136, step = 31501 (0.166 sec)\n"
     ]
    },
    {
     "name": "stdout",
     "output_type": "stream",
     "text": [
      "INFO:tensorflow:global_step/sec: 578.5\n",
      "INFO:tensorflow:loss = 0.01105613, step = 31601 (0.173 sec)\n",
      "INFO:tensorflow:global_step/sec: 617.905\n",
      "INFO:tensorflow:loss = 0.02518607, step = 31701 (0.162 sec)\n",
      "INFO:tensorflow:global_step/sec: 599.718\n",
      "INFO:tensorflow:loss = 0.010005051, step = 31801 (0.167 sec)\n",
      "INFO:tensorflow:global_step/sec: 610.207\n",
      "INFO:tensorflow:loss = 0.026658129, step = 31901 (0.164 sec)\n",
      "INFO:tensorflow:global_step/sec: 616.743\n",
      "INFO:tensorflow:loss = 0.00589541, step = 32001 (0.162 sec)\n",
      "INFO:tensorflow:global_step/sec: 614.662\n",
      "INFO:tensorflow:loss = 0.021204501, step = 32101 (0.163 sec)\n",
      "INFO:tensorflow:global_step/sec: 601.2\n",
      "INFO:tensorflow:loss = 0.04460819, step = 32201 (0.166 sec)\n",
      "INFO:tensorflow:global_step/sec: 610.903\n",
      "INFO:tensorflow:loss = 0.040154107, step = 32301 (0.164 sec)\n",
      "INFO:tensorflow:global_step/sec: 620.886\n",
      "INFO:tensorflow:loss = 0.087951034, step = 32401 (0.161 sec)\n",
      "INFO:tensorflow:global_step/sec: 607.423\n",
      "INFO:tensorflow:loss = 0.01106162, step = 32501 (0.165 sec)\n",
      "INFO:tensorflow:global_step/sec: 601.427\n",
      "INFO:tensorflow:loss = 0.016330672, step = 32601 (0.166 sec)\n",
      "INFO:tensorflow:global_step/sec: 612.659\n",
      "INFO:tensorflow:loss = 0.042503264, step = 32701 (0.163 sec)\n",
      "INFO:tensorflow:global_step/sec: 619.626\n",
      "INFO:tensorflow:loss = 0.02573244, step = 32801 (0.161 sec)\n",
      "INFO:tensorflow:global_step/sec: 614.601\n",
      "INFO:tensorflow:loss = 0.018095557, step = 32901 (0.163 sec)\n",
      "INFO:tensorflow:global_step/sec: 604.708\n",
      "INFO:tensorflow:loss = 0.025560042, step = 33001 (0.165 sec)\n",
      "INFO:tensorflow:global_step/sec: 609.114\n",
      "INFO:tensorflow:loss = 0.0042865695, step = 33101 (0.164 sec)\n",
      "INFO:tensorflow:global_step/sec: 601.42\n",
      "INFO:tensorflow:loss = 0.033173304, step = 33201 (0.166 sec)\n",
      "INFO:tensorflow:global_step/sec: 612.093\n",
      "INFO:tensorflow:loss = 0.009369973, step = 33301 (0.163 sec)\n",
      "INFO:tensorflow:global_step/sec: 604.924\n",
      "INFO:tensorflow:loss = 0.034015674, step = 33401 (0.165 sec)\n",
      "INFO:tensorflow:global_step/sec: 618.912\n",
      "INFO:tensorflow:loss = 0.0050645503, step = 33501 (0.162 sec)\n",
      "INFO:tensorflow:global_step/sec: 607.973\n",
      "INFO:tensorflow:loss = 0.04488725, step = 33601 (0.164 sec)\n",
      "INFO:tensorflow:global_step/sec: 606.439\n",
      "INFO:tensorflow:loss = 0.012269724, step = 33701 (0.165 sec)\n",
      "INFO:tensorflow:global_step/sec: 602.947\n",
      "INFO:tensorflow:loss = 0.01312844, step = 33801 (0.166 sec)\n",
      "INFO:tensorflow:global_step/sec: 612.419\n",
      "INFO:tensorflow:loss = 0.008976509, step = 33901 (0.163 sec)\n",
      "INFO:tensorflow:global_step/sec: 603.013\n",
      "INFO:tensorflow:loss = 0.018806644, step = 34001 (0.166 sec)\n",
      "INFO:tensorflow:global_step/sec: 601.956\n",
      "INFO:tensorflow:loss = 0.05142553, step = 34101 (0.166 sec)\n",
      "INFO:tensorflow:global_step/sec: 607.283\n",
      "INFO:tensorflow:loss = 0.01986599, step = 34201 (0.165 sec)\n",
      "INFO:tensorflow:global_step/sec: 605.425\n",
      "INFO:tensorflow:loss = 0.01563231, step = 34301 (0.165 sec)\n",
      "INFO:tensorflow:global_step/sec: 600.143\n",
      "INFO:tensorflow:loss = 0.030252093, step = 34401 (0.167 sec)\n",
      "INFO:tensorflow:global_step/sec: 598.473\n",
      "INFO:tensorflow:loss = 0.039777704, step = 34501 (0.167 sec)\n",
      "INFO:tensorflow:global_step/sec: 607.824\n",
      "INFO:tensorflow:loss = 0.026911939, step = 34601 (0.165 sec)\n",
      "INFO:tensorflow:global_step/sec: 595.472\n",
      "INFO:tensorflow:loss = 0.032925915, step = 34701 (0.168 sec)\n",
      "INFO:tensorflow:global_step/sec: 599.639\n",
      "INFO:tensorflow:loss = 0.039492086, step = 34801 (0.167 sec)\n",
      "INFO:tensorflow:global_step/sec: 596.054\n",
      "INFO:tensorflow:loss = 0.017289128, step = 34901 (0.168 sec)\n",
      "INFO:tensorflow:global_step/sec: 601.974\n",
      "INFO:tensorflow:loss = 0.03717436, step = 35001 (0.166 sec)\n",
      "INFO:tensorflow:global_step/sec: 604.543\n",
      "INFO:tensorflow:loss = 0.027915016, step = 35101 (0.165 sec)\n",
      "INFO:tensorflow:global_step/sec: 598.455\n",
      "INFO:tensorflow:loss = 0.0061787223, step = 35201 (0.167 sec)\n",
      "INFO:tensorflow:global_step/sec: 599.165\n",
      "INFO:tensorflow:loss = 0.0017433183, step = 35301 (0.167 sec)\n",
      "INFO:tensorflow:global_step/sec: 608.251\n",
      "INFO:tensorflow:loss = 0.030201044, step = 35401 (0.164 sec)\n",
      "INFO:tensorflow:global_step/sec: 600.535\n",
      "INFO:tensorflow:loss = 0.011930257, step = 35501 (0.167 sec)\n",
      "INFO:tensorflow:global_step/sec: 592.428\n",
      "INFO:tensorflow:loss = 0.017586272, step = 35601 (0.169 sec)\n",
      "INFO:tensorflow:global_step/sec: 593.665\n",
      "INFO:tensorflow:loss = 0.0040034144, step = 35701 (0.168 sec)\n",
      "INFO:tensorflow:global_step/sec: 598.273\n",
      "INFO:tensorflow:loss = 0.0064025186, step = 35801 (0.167 sec)\n",
      "INFO:tensorflow:global_step/sec: 585.709\n",
      "INFO:tensorflow:loss = 0.026044758, step = 35901 (0.171 sec)\n",
      "INFO:tensorflow:global_step/sec: 615.393\n",
      "INFO:tensorflow:loss = 0.07395492, step = 36001 (0.162 sec)\n",
      "INFO:tensorflow:global_step/sec: 598.34\n",
      "INFO:tensorflow:loss = 0.010097204, step = 36101 (0.167 sec)\n",
      "INFO:tensorflow:global_step/sec: 605.903\n",
      "INFO:tensorflow:loss = 0.026901886, step = 36201 (0.165 sec)\n",
      "INFO:tensorflow:global_step/sec: 596.303\n",
      "INFO:tensorflow:loss = 0.0066695944, step = 36301 (0.168 sec)\n",
      "INFO:tensorflow:global_step/sec: 586.097\n",
      "INFO:tensorflow:loss = 0.008601313, step = 36401 (0.171 sec)\n",
      "INFO:tensorflow:global_step/sec: 575.507\n",
      "INFO:tensorflow:loss = 0.01798851, step = 36501 (0.174 sec)\n",
      "INFO:tensorflow:global_step/sec: 580.943\n",
      "INFO:tensorflow:loss = 0.06539781, step = 36601 (0.172 sec)\n",
      "INFO:tensorflow:global_step/sec: 597.411\n",
      "INFO:tensorflow:loss = 0.033974793, step = 36701 (0.167 sec)\n",
      "INFO:tensorflow:global_step/sec: 609.05\n",
      "INFO:tensorflow:loss = 0.009526209, step = 36801 (0.164 sec)\n",
      "INFO:tensorflow:global_step/sec: 600.709\n",
      "INFO:tensorflow:loss = 0.01632296, step = 36901 (0.166 sec)\n",
      "INFO:tensorflow:global_step/sec: 590.685\n",
      "INFO:tensorflow:loss = 0.019416874, step = 37001 (0.169 sec)\n",
      "INFO:tensorflow:global_step/sec: 594.729\n",
      "INFO:tensorflow:loss = 0.03469284, step = 37101 (0.168 sec)\n",
      "INFO:tensorflow:global_step/sec: 596.427\n",
      "INFO:tensorflow:loss = 0.021127086, step = 37201 (0.168 sec)\n",
      "INFO:tensorflow:global_step/sec: 583.111\n",
      "INFO:tensorflow:loss = 0.00805146, step = 37301 (0.172 sec)\n",
      "INFO:tensorflow:global_step/sec: 586.494\n",
      "INFO:tensorflow:loss = 0.025565213, step = 37401 (0.170 sec)\n",
      "INFO:tensorflow:global_step/sec: 581.98\n",
      "INFO:tensorflow:loss = 0.018456148, step = 37501 (0.172 sec)\n",
      "INFO:tensorflow:global_step/sec: 578.494\n",
      "INFO:tensorflow:loss = 0.0011435449, step = 37601 (0.173 sec)\n",
      "INFO:tensorflow:global_step/sec: 588.276\n",
      "INFO:tensorflow:loss = 0.040854357, step = 37701 (0.170 sec)\n",
      "INFO:tensorflow:global_step/sec: 583.277\n",
      "INFO:tensorflow:loss = 0.022116562, step = 37801 (0.171 sec)\n",
      "INFO:tensorflow:global_step/sec: 594.567\n",
      "INFO:tensorflow:loss = 0.012217464, step = 37901 (0.168 sec)\n",
      "INFO:tensorflow:global_step/sec: 589.72\n",
      "INFO:tensorflow:loss = 0.05293377, step = 38001 (0.170 sec)\n",
      "INFO:tensorflow:global_step/sec: 594.064\n",
      "INFO:tensorflow:loss = 0.02440616, step = 38101 (0.168 sec)\n",
      "INFO:tensorflow:global_step/sec: 583.176\n",
      "INFO:tensorflow:loss = 0.037120182, step = 38201 (0.172 sec)\n",
      "INFO:tensorflow:global_step/sec: 583.665\n",
      "INFO:tensorflow:loss = 0.014453214, step = 38301 (0.171 sec)\n",
      "INFO:tensorflow:global_step/sec: 596.613\n",
      "INFO:tensorflow:loss = 0.187976, step = 38401 (0.168 sec)\n",
      "INFO:tensorflow:global_step/sec: 614.62\n",
      "INFO:tensorflow:loss = 0.012226779, step = 38501 (0.163 sec)\n",
      "INFO:tensorflow:global_step/sec: 589.025\n",
      "INFO:tensorflow:loss = 0.014642281, step = 38601 (0.170 sec)\n",
      "INFO:tensorflow:global_step/sec: 585.724\n",
      "INFO:tensorflow:loss = 0.008470085, step = 38701 (0.171 sec)\n",
      "INFO:tensorflow:global_step/sec: 587.866\n",
      "INFO:tensorflow:loss = 0.026603233, step = 38801 (0.170 sec)\n",
      "INFO:tensorflow:global_step/sec: 583.666\n",
      "INFO:tensorflow:loss = 0.008797867, step = 38901 (0.171 sec)\n",
      "INFO:tensorflow:global_step/sec: 605.239\n",
      "INFO:tensorflow:loss = 0.04942014, step = 39001 (0.165 sec)\n",
      "INFO:tensorflow:global_step/sec: 585.059\n",
      "INFO:tensorflow:loss = 0.012890635, step = 39101 (0.171 sec)\n",
      "INFO:tensorflow:global_step/sec: 569.499\n",
      "INFO:tensorflow:loss = 0.042185202, step = 39201 (0.176 sec)\n",
      "INFO:tensorflow:global_step/sec: 580.982\n",
      "INFO:tensorflow:loss = 0.03449935, step = 39301 (0.172 sec)\n",
      "INFO:tensorflow:global_step/sec: 585.83\n",
      "INFO:tensorflow:loss = 0.010067585, step = 39401 (0.171 sec)\n",
      "INFO:tensorflow:global_step/sec: 583.842\n",
      "INFO:tensorflow:loss = 0.0018263194, step = 39501 (0.171 sec)\n",
      "INFO:tensorflow:global_step/sec: 584.851\n",
      "INFO:tensorflow:loss = 0.014536953, step = 39601 (0.171 sec)\n"
     ]
    },
    {
     "name": "stdout",
     "output_type": "stream",
     "text": [
      "INFO:tensorflow:global_step/sec: 572.535\n",
      "INFO:tensorflow:loss = 0.009067169, step = 39701 (0.175 sec)\n",
      "INFO:tensorflow:global_step/sec: 612.159\n",
      "INFO:tensorflow:loss = 0.104562774, step = 39801 (0.163 sec)\n",
      "INFO:tensorflow:global_step/sec: 607.103\n",
      "INFO:tensorflow:loss = 0.010642175, step = 39901 (0.165 sec)\n",
      "INFO:tensorflow:global_step/sec: 613.824\n",
      "INFO:tensorflow:loss = 0.022650871, step = 40001 (0.163 sec)\n",
      "INFO:tensorflow:global_step/sec: 620.075\n",
      "INFO:tensorflow:loss = 0.0030301467, step = 40101 (0.161 sec)\n",
      "INFO:tensorflow:global_step/sec: 612.324\n",
      "INFO:tensorflow:loss = 0.015228275, step = 40201 (0.163 sec)\n",
      "INFO:tensorflow:global_step/sec: 613.342\n",
      "INFO:tensorflow:loss = 0.022020243, step = 40301 (0.163 sec)\n",
      "INFO:tensorflow:global_step/sec: 598.373\n",
      "INFO:tensorflow:loss = 0.011046123, step = 40401 (0.167 sec)\n",
      "INFO:tensorflow:global_step/sec: 608.831\n",
      "INFO:tensorflow:loss = 0.051628854, step = 40501 (0.164 sec)\n",
      "INFO:tensorflow:global_step/sec: 607.512\n",
      "INFO:tensorflow:loss = 0.0063248184, step = 40601 (0.165 sec)\n",
      "INFO:tensorflow:global_step/sec: 602.852\n",
      "INFO:tensorflow:loss = 0.007814384, step = 40701 (0.166 sec)\n",
      "INFO:tensorflow:global_step/sec: 605.466\n",
      "INFO:tensorflow:loss = 0.0133890575, step = 40801 (0.165 sec)\n",
      "INFO:tensorflow:global_step/sec: 604.825\n",
      "INFO:tensorflow:loss = 0.0054446254, step = 40901 (0.165 sec)\n",
      "INFO:tensorflow:global_step/sec: 612.67\n",
      "INFO:tensorflow:loss = 0.010953964, step = 41001 (0.163 sec)\n",
      "INFO:tensorflow:global_step/sec: 608.676\n",
      "INFO:tensorflow:loss = 0.0050649317, step = 41101 (0.164 sec)\n",
      "INFO:tensorflow:global_step/sec: 613.58\n",
      "INFO:tensorflow:loss = 0.022747349, step = 41201 (0.163 sec)\n",
      "INFO:tensorflow:global_step/sec: 609.158\n",
      "INFO:tensorflow:loss = 0.025473872, step = 41301 (0.164 sec)\n",
      "INFO:tensorflow:global_step/sec: 604.332\n",
      "INFO:tensorflow:loss = 0.017868098, step = 41401 (0.166 sec)\n",
      "INFO:tensorflow:global_step/sec: 600.329\n",
      "INFO:tensorflow:loss = 0.006423994, step = 41501 (0.167 sec)\n",
      "INFO:tensorflow:global_step/sec: 608.406\n",
      "INFO:tensorflow:loss = 0.006515139, step = 41601 (0.164 sec)\n",
      "INFO:tensorflow:global_step/sec: 611.071\n",
      "INFO:tensorflow:loss = 0.009038744, step = 41701 (0.164 sec)\n",
      "INFO:tensorflow:global_step/sec: 608.821\n",
      "INFO:tensorflow:loss = 0.026351888, step = 41801 (0.164 sec)\n",
      "INFO:tensorflow:global_step/sec: 602.755\n",
      "INFO:tensorflow:loss = 0.023995943, step = 41901 (0.166 sec)\n",
      "INFO:tensorflow:global_step/sec: 605.771\n",
      "INFO:tensorflow:loss = 0.01174166, step = 42001 (0.165 sec)\n",
      "INFO:tensorflow:global_step/sec: 594.215\n",
      "INFO:tensorflow:loss = 0.0047893426, step = 42101 (0.168 sec)\n",
      "INFO:tensorflow:global_step/sec: 593.029\n",
      "INFO:tensorflow:loss = 0.004324089, step = 42201 (0.169 sec)\n",
      "INFO:tensorflow:global_step/sec: 605.59\n",
      "INFO:tensorflow:loss = 0.0038780058, step = 42301 (0.165 sec)\n",
      "INFO:tensorflow:global_step/sec: 602.164\n",
      "INFO:tensorflow:loss = 0.00224031, step = 42401 (0.166 sec)\n",
      "INFO:tensorflow:global_step/sec: 597.836\n",
      "INFO:tensorflow:loss = 0.019368252, step = 42501 (0.167 sec)\n",
      "INFO:tensorflow:global_step/sec: 606.729\n",
      "INFO:tensorflow:loss = 0.0051967856, step = 42601 (0.165 sec)\n",
      "INFO:tensorflow:global_step/sec: 601.255\n",
      "INFO:tensorflow:loss = 0.014362813, step = 42701 (0.166 sec)\n",
      "INFO:tensorflow:global_step/sec: 602.859\n",
      "INFO:tensorflow:loss = 0.037072934, step = 42801 (0.166 sec)\n",
      "INFO:tensorflow:global_step/sec: 599.305\n",
      "INFO:tensorflow:loss = 0.047399454, step = 42901 (0.167 sec)\n",
      "INFO:tensorflow:global_step/sec: 594.89\n",
      "INFO:tensorflow:loss = 0.0053059417, step = 43001 (0.168 sec)\n",
      "INFO:tensorflow:global_step/sec: 604.3\n",
      "INFO:tensorflow:loss = 0.015792169, step = 43101 (0.165 sec)\n",
      "INFO:tensorflow:global_step/sec: 592.855\n",
      "INFO:tensorflow:loss = 0.020431403, step = 43201 (0.169 sec)\n",
      "INFO:tensorflow:global_step/sec: 554.989\n",
      "INFO:tensorflow:loss = 0.02241857, step = 43301 (0.180 sec)\n",
      "INFO:tensorflow:global_step/sec: 595.564\n",
      "INFO:tensorflow:loss = 0.011144343, step = 43401 (0.168 sec)\n",
      "INFO:tensorflow:global_step/sec: 615.969\n",
      "INFO:tensorflow:loss = 0.035285357, step = 43501 (0.162 sec)\n",
      "INFO:tensorflow:global_step/sec: 601.453\n",
      "INFO:tensorflow:loss = 0.017264105, step = 43601 (0.166 sec)\n",
      "INFO:tensorflow:global_step/sec: 600.333\n",
      "INFO:tensorflow:loss = 0.012485152, step = 43701 (0.167 sec)\n",
      "INFO:tensorflow:global_step/sec: 594.955\n",
      "INFO:tensorflow:loss = 0.03805632, step = 43801 (0.168 sec)\n",
      "INFO:tensorflow:global_step/sec: 612.805\n",
      "INFO:tensorflow:loss = 0.027604831, step = 43901 (0.163 sec)\n",
      "INFO:tensorflow:Saving checkpoints for 44000 into /var/folders/r4/ld0lj9qx2r9dbdjl8zmcyzqm0000gn/T/tmpv10c8zg7/model.ckpt.\n",
      "INFO:tensorflow:Loss for final step: 0.006266579.\n"
     ]
    },
    {
     "data": {
      "text/plain": [
       "<tensorflow.python.estimator.canned.dnn.DNNClassifier at 0x14a33c240>"
      ]
     },
     "execution_count": 5,
     "metadata": {},
     "output_type": "execute_result"
    }
   ],
   "source": [
    "feature_cols = [tf.feature_column.numeric_column(\"X\", shape=[28*28])]\n",
    "dnn_clf = tf.estimator.DNNClassifier(hidden_units=[300,100], n_classes=10,\n",
    "                                    feature_columns=feature_cols)\n",
    "input_fn = tf.estimator.inputs.numpy_input_fn(\n",
    "    x={\"X\":X_train}, y=y_train, num_epochs=40, batch_size=50, shuffle=True)\n",
    "dnn_clf.train(input_fn=input_fn)"
   ]
  },
  {
   "cell_type": "code",
   "execution_count": 6,
   "metadata": {},
   "outputs": [
    {
     "name": "stdout",
     "output_type": "stream",
     "text": [
      "INFO:tensorflow:Calling model_fn.\n",
      "INFO:tensorflow:Done calling model_fn.\n",
      "INFO:tensorflow:Starting evaluation at 2019-02-11-07:27:12\n",
      "INFO:tensorflow:Graph was finalized.\n",
      "INFO:tensorflow:Restoring parameters from /var/folders/r4/ld0lj9qx2r9dbdjl8zmcyzqm0000gn/T/tmpv10c8zg7/model.ckpt-44000\n",
      "INFO:tensorflow:Running local_init_op.\n",
      "INFO:tensorflow:Done running local_init_op.\n",
      "INFO:tensorflow:Finished evaluation at 2019-02-11-07:27:12\n",
      "INFO:tensorflow:Saving dict for global step 44000: accuracy = 0.9794, average_loss = 0.106978565, global_step = 44000, loss = 13.541591\n"
     ]
    }
   ],
   "source": [
    "test_input_fn = tf.estimator.inputs.numpy_input_fn(\n",
    "    x={\"X\":X_test}, y=y_test, shuffle=False)\n",
    "eval_results = dnn_clf.evaluate(input_fn=test_input_fn)"
   ]
  },
  {
   "cell_type": "code",
   "execution_count": 7,
   "metadata": {},
   "outputs": [
    {
     "data": {
      "text/plain": [
       "{'accuracy': 0.9794,\n",
       " 'average_loss': 0.106978565,\n",
       " 'loss': 13.541591,\n",
       " 'global_step': 44000}"
      ]
     },
     "execution_count": 7,
     "metadata": {},
     "output_type": "execute_result"
    }
   ],
   "source": [
    "eval_results"
   ]
  },
  {
   "cell_type": "code",
   "execution_count": 8,
   "metadata": {},
   "outputs": [
    {
     "name": "stdout",
     "output_type": "stream",
     "text": [
      "INFO:tensorflow:Calling model_fn.\n",
      "INFO:tensorflow:Done calling model_fn.\n",
      "INFO:tensorflow:Graph was finalized.\n",
      "INFO:tensorflow:Restoring parameters from /var/folders/r4/ld0lj9qx2r9dbdjl8zmcyzqm0000gn/T/tmpv10c8zg7/model.ckpt-44000\n",
      "INFO:tensorflow:Running local_init_op.\n",
      "INFO:tensorflow:Done running local_init_op.\n"
     ]
    },
    {
     "data": {
      "text/plain": [
       "{'logits': array([-10.870966 ,   0.1988117,  -1.8879312,   8.530668 , -11.532813 ,\n",
       "         -4.442738 , -19.00914  ,  20.522406 ,  -0.5042079,   6.5539174],\n",
       "       dtype=float32),\n",
       " 'probabilities': array([2.3228915e-14, 1.4913261e-09, 1.8505936e-10, 6.1951464e-06,\n",
       "        1.1983750e-14, 1.4380467e-11, 6.7867837e-18, 9.9999297e-01,\n",
       "        7.3833734e-10, 8.5814247e-07], dtype=float32),\n",
       " 'class_ids': array([7]),\n",
       " 'classes': array([b'7'], dtype=object)}"
      ]
     },
     "execution_count": 8,
     "metadata": {},
     "output_type": "execute_result"
    }
   ],
   "source": [
    "y_pred_iter = dnn_clf.predict(input_fn=test_input_fn)\n",
    "y_pred = list(y_pred_iter)\n",
    "y_pred[0]"
   ]
  },
  {
   "cell_type": "markdown",
   "metadata": {},
   "source": [
    "### プレーンTensorFlow"
   ]
  },
  {
   "cell_type": "code",
   "execution_count": 9,
   "metadata": {},
   "outputs": [],
   "source": [
    "import tensorflow as tf\n",
    "import numpy as np"
   ]
  },
  {
   "cell_type": "code",
   "execution_count": 17,
   "metadata": {},
   "outputs": [],
   "source": [
    "n_inputs = 28*28\n",
    "n_hidden1 = 300\n",
    "n_hidden2 = 100\n",
    "n_outputs = 10"
   ]
  },
  {
   "cell_type": "code",
   "execution_count": 29,
   "metadata": {},
   "outputs": [],
   "source": [
    "reset_graph()\n",
    "X = tf.placeholder(tf.float32, shape=(None, n_inputs), name=\"X\")\n",
    "y = tf.placeholder(tf.int32, shape=(None), name=\"y\")"
   ]
  },
  {
   "cell_type": "code",
   "execution_count": 30,
   "metadata": {},
   "outputs": [],
   "source": [
    "def neuron_layer(X, n_neurons, name, activation=None):\n",
    "    with tf.name_scope(name):\n",
    "        n_inputs = int(X.get_shape()[1])\n",
    "        stddev = 2 / np.sqrt(n_inputs)\n",
    "        init = tf.truncated_normal(\n",
    "            (n_inputs, n_neurons),stddev=stddev\n",
    "        )\n",
    "        W = tf.Variable(init, name=\"kernel\")\n",
    "        b = tf.Variable(tf.zeros([n_neurons]), name=\"bias\")\n",
    "        Z = tf.matmul(X, W) + b\n",
    "        if activation is not None:\n",
    "            return activation(Z)\n",
    "        else:\n",
    "            return Z"
   ]
  },
  {
   "cell_type": "code",
   "execution_count": 31,
   "metadata": {},
   "outputs": [],
   "source": [
    "with tf.name_scope(\"dnn\"):\n",
    "    hidden1 = neuron_layer(X, n_hidden1, name=\"hidden1\", activation=tf.nn.relu)\n",
    "    hidden2 = neuron_layer(hidden1, n_hidden2, name=\"hidden2\", activation=tf.nn.relu)\n",
    "    logits = neuron_layer(hidden2, n_outputs, name=\"outputs\")"
   ]
  },
  {
   "cell_type": "code",
   "execution_count": 32,
   "metadata": {},
   "outputs": [],
   "source": [
    "with tf.name_scope(\"loss\"):\n",
    "    xentropy = tf.nn.sparse_softmax_cross_entropy_with_logits(\n",
    "        labels=y,logits=logits)\n",
    "    loss = tf.reduce_mean(xentropy, name=\"loss\")"
   ]
  },
  {
   "cell_type": "code",
   "execution_count": 33,
   "metadata": {},
   "outputs": [],
   "source": [
    "learning_rate = 0.01\n",
    "with tf.name_scope(\"train\"):\n",
    "    optimizer = tf.train.GradientDescentOptimizer(learning_rate)\n",
    "    training_op = optimizer.minimize(loss)"
   ]
  },
  {
   "cell_type": "code",
   "execution_count": 34,
   "metadata": {},
   "outputs": [],
   "source": [
    "with tf.name_scope(\"eval\"):\n",
    "    correct = tf.nn.in_top_k(logits, y, 1)\n",
    "    accuracy = tf.reduce_mean(tf.cast(correct, tf.float32))"
   ]
  },
  {
   "cell_type": "code",
   "execution_count": 35,
   "metadata": {},
   "outputs": [],
   "source": [
    "init = tf.global_variables_initializer()\n",
    "saver = tf.train.Saver()"
   ]
  },
  {
   "cell_type": "code",
   "execution_count": 36,
   "metadata": {},
   "outputs": [],
   "source": [
    "n_epochs = 40\n",
    "batch_size=50"
   ]
  },
  {
   "cell_type": "code",
   "execution_count": 4,
   "metadata": {},
   "outputs": [],
   "source": [
    "def shuffle_batch(X, y, batch_size):\n",
    "    rnd_idx = np.random.permutation(len(X))\n",
    "    n_batches = len(X) // batch_size\n",
    "    for batch_idx in np.array_split(rnd_idx, n_batches):\n",
    "        X_batch, y_batch = X[batch_idx], y[batch_idx]\n",
    "        yield X_batch, y_batch"
   ]
  },
  {
   "cell_type": "code",
   "execution_count": 41,
   "metadata": {},
   "outputs": [
    {
     "name": "stdout",
     "output_type": "stream",
     "text": [
      "0 Batch accuracy: 0.96 Val accuracy: 0.9178\n",
      "1 Batch accuracy: 0.9 Val accuracy: 0.9368\n",
      "2 Batch accuracy: 0.96 Val accuracy: 0.946\n",
      "3 Batch accuracy: 0.96 Val accuracy: 0.9504\n",
      "4 Batch accuracy: 1.0 Val accuracy: 0.9562\n",
      "5 Batch accuracy: 0.94 Val accuracy: 0.9588\n",
      "6 Batch accuracy: 0.98 Val accuracy: 0.9612\n",
      "7 Batch accuracy: 0.96 Val accuracy: 0.9632\n",
      "8 Batch accuracy: 0.92 Val accuracy: 0.965\n",
      "9 Batch accuracy: 0.98 Val accuracy: 0.9662\n",
      "10 Batch accuracy: 0.98 Val accuracy: 0.9648\n",
      "11 Batch accuracy: 0.98 Val accuracy: 0.9696\n",
      "12 Batch accuracy: 1.0 Val accuracy: 0.9696\n",
      "13 Batch accuracy: 0.94 Val accuracy: 0.9708\n",
      "14 Batch accuracy: 1.0 Val accuracy: 0.9722\n",
      "15 Batch accuracy: 1.0 Val accuracy: 0.9728\n",
      "16 Batch accuracy: 1.0 Val accuracy: 0.9738\n",
      "17 Batch accuracy: 0.98 Val accuracy: 0.9734\n",
      "18 Batch accuracy: 1.0 Val accuracy: 0.9738\n",
      "19 Batch accuracy: 1.0 Val accuracy: 0.9754\n",
      "20 Batch accuracy: 0.98 Val accuracy: 0.9754\n",
      "21 Batch accuracy: 0.98 Val accuracy: 0.976\n",
      "22 Batch accuracy: 0.98 Val accuracy: 0.9764\n",
      "23 Batch accuracy: 1.0 Val accuracy: 0.9772\n",
      "24 Batch accuracy: 0.98 Val accuracy: 0.9778\n",
      "25 Batch accuracy: 1.0 Val accuracy: 0.9782\n",
      "26 Batch accuracy: 0.94 Val accuracy: 0.9762\n",
      "27 Batch accuracy: 0.98 Val accuracy: 0.9784\n",
      "28 Batch accuracy: 1.0 Val accuracy: 0.9766\n",
      "29 Batch accuracy: 0.96 Val accuracy: 0.9772\n",
      "30 Batch accuracy: 0.96 Val accuracy: 0.9778\n",
      "31 Batch accuracy: 0.98 Val accuracy: 0.9798\n",
      "32 Batch accuracy: 1.0 Val accuracy: 0.978\n",
      "33 Batch accuracy: 1.0 Val accuracy: 0.9784\n",
      "34 Batch accuracy: 0.98 Val accuracy: 0.9786\n",
      "35 Batch accuracy: 1.0 Val accuracy: 0.9778\n",
      "36 Batch accuracy: 0.98 Val accuracy: 0.9798\n",
      "37 Batch accuracy: 1.0 Val accuracy: 0.9778\n",
      "38 Batch accuracy: 1.0 Val accuracy: 0.9776\n",
      "39 Batch accuracy: 1.0 Val accuracy: 0.9788\n"
     ]
    }
   ],
   "source": [
    "with tf.Session() as sess:\n",
    "    init.run()\n",
    "    for epoch in range(n_epochs):\n",
    "        for X_batch, y_batch in shuffle_batch(X_train, y_train, batch_size):\n",
    "            sess.run(training_op, feed_dict={X:X_batch, y:y_batch})\n",
    "        acc_batch = accuracy.eval(feed_dict={X:X_batch, y:y_batch})\n",
    "        acc_val = accuracy.eval(feed_dict={X:X_valid, y:y_valid})\n",
    "        print(epoch, \"Batch accuracy:\", acc_batch, \"Val accuracy:\", acc_val)\n",
    "    save_path = saver.save(sess, \"./my_model_final.ckpt\")        "
   ]
  },
  {
   "cell_type": "code",
   "execution_count": 43,
   "metadata": {},
   "outputs": [
    {
     "name": "stdout",
     "output_type": "stream",
     "text": [
      "INFO:tensorflow:Restoring parameters from ./my_model_final.ckpt\n"
     ]
    }
   ],
   "source": [
    "with tf.Session() as sess:\n",
    "    saver.restore(sess, \"./my_model_final.ckpt\")\n",
    "    X_new_scaled = X_test[:20]\n",
    "    Z = logits.eval(feed_dict={X:X_new_scaled})\n",
    "    y_pred = np.argmax(Z, axis=1)"
   ]
  },
  {
   "cell_type": "code",
   "execution_count": 44,
   "metadata": {},
   "outputs": [
    {
     "name": "stdout",
     "output_type": "stream",
     "text": [
      "Predicted classes: [7 2 1 0 4 1 4 9 5 9 0 6 9 0 1 5 9 7 3 4]\n",
      "Actual classes:    [7 2 1 0 4 1 4 9 5 9 0 6 9 0 1 5 9 7 3 4]\n"
     ]
    }
   ],
   "source": [
    "print(\"Predicted classes:\", y_pred)\n",
    "print(\"Actual classes:   \", y_test[:20])"
   ]
  },
  {
   "cell_type": "markdown",
   "metadata": {},
   "source": [
    "# RNN"
   ]
  },
  {
   "cell_type": "markdown",
   "metadata": {},
   "source": [
    "## RNN(Basic)"
   ]
  },
  {
   "cell_type": "code",
   "execution_count": 3,
   "metadata": {},
   "outputs": [],
   "source": [
    "reset_graph()\n",
    "\n",
    "n_inputs = 3\n",
    "n_neurons = 5\n",
    "\n",
    "X0 = tf.placeholder(tf.float32, [None, n_inputs])\n",
    "X1 = tf.placeholder(tf.float32, [None, n_inputs])\n",
    "\n",
    "Wx = tf.Variable(tf.random_normal(shape=[n_inputs, n_neurons], dtype=tf.float32))\n",
    "Wy = tf.Variable(tf.random_normal(shape=[n_neurons, n_neurons], dtype=tf.float32))\n",
    "b = tf.Variable(tf.zeros([1, n_neurons], dtype=tf.float32))\n",
    "\n",
    "Y0 = tf.tanh(tf.matmul(X0, Wx) + b)\n",
    "Y1 = tf.tanh(tf.matmul(Y0, Wy) + tf.matmul(X1, Wx) + b)\n",
    "\n",
    "init = tf.global_variables_initializer()"
   ]
  },
  {
   "cell_type": "code",
   "execution_count": 4,
   "metadata": {},
   "outputs": [],
   "source": [
    "import numpy as np\n",
    "\n",
    "X0_batch = np.array([[0, 1, 2], [3, 4, 5], [6, 7, 8], [9, 0, 1]]) # t = 0\n",
    "X1_batch = np.array([[9, 8, 7], [0, 0, 0], [6, 5, 4], [3, 2, 1]]) # t = 1\n",
    "\n",
    "with tf.Session() as sess:\n",
    "    init.run()\n",
    "    Y0_val, Y1_val = sess.run([Y0, Y1], feed_dict={X0:X0_batch, X1:X1_batch})"
   ]
  },
  {
   "cell_type": "code",
   "execution_count": 7,
   "metadata": {},
   "outputs": [
    {
     "data": {
      "text/plain": [
       "array([[-0.0664006 ,  0.9625767 ,  0.68105793,  0.7091854 , -0.898216  ],\n",
       "       [ 0.9977755 , -0.719789  , -0.9965761 ,  0.9673924 , -0.9998972 ],\n",
       "       [ 0.99999774, -0.99898803, -0.9999989 ,  0.9967762 , -0.9999999 ],\n",
       "       [ 1.        , -1.        , -1.        , -0.99818915,  0.9995087 ]],\n",
       "      dtype=float32)"
      ]
     },
     "execution_count": 7,
     "metadata": {},
     "output_type": "execute_result"
    }
   ],
   "source": [
    "Y0_val"
   ]
  },
  {
   "cell_type": "code",
   "execution_count": 8,
   "metadata": {},
   "outputs": [
    {
     "data": {
      "text/plain": [
       "array([[ 1.        , -1.        , -1.        ,  0.4020025 , -0.9999998 ],\n",
       "       [-0.12210419,  0.62805265,  0.9671843 , -0.9937122 , -0.2583937 ],\n",
       "       [ 0.9999983 , -0.9999994 , -0.9999975 , -0.85943305, -0.9999881 ],\n",
       "       [ 0.99928284, -0.99999815, -0.9999058 ,  0.9857963 , -0.92205757]],\n",
       "      dtype=float32)"
      ]
     },
     "execution_count": 8,
     "metadata": {},
     "output_type": "execute_result"
    }
   ],
   "source": [
    "Y1_val"
   ]
  },
  {
   "cell_type": "markdown",
   "metadata": {},
   "source": [
    "## RNN(using static_rnn())"
   ]
  },
  {
   "cell_type": "code",
   "execution_count": 10,
   "metadata": {},
   "outputs": [],
   "source": [
    "n_inputs = 3\n",
    "n_neurons = 5"
   ]
  },
  {
   "cell_type": "code",
   "execution_count": 11,
   "metadata": {},
   "outputs": [],
   "source": [
    "reset_graph()\n",
    "\n",
    "X0 = tf.placeholder(tf.float32, [None, n_inputs])\n",
    "X1 = tf.placeholder(tf.float32, [None, n_inputs])\n",
    "\n",
    "basic_cell = tf.nn.rnn_cell.BasicRNNCell(num_units=n_neurons)\n",
    "output_seqs, states = tf.nn.static_rnn(basic_cell, [X0,X1],dtype=tf.float32)\n",
    "Y0, Y1 = output_seqs"
   ]
  },
  {
   "cell_type": "code",
   "execution_count": 13,
   "metadata": {},
   "outputs": [],
   "source": [
    "init = tf.global_variables_initializer()"
   ]
  },
  {
   "cell_type": "code",
   "execution_count": 14,
   "metadata": {},
   "outputs": [],
   "source": [
    "X0_batch = np.array([[0, 1, 2], [3, 4, 5], [6, 7, 8], [9, 0, 1]])\n",
    "X1_batch = np.array([[9, 8, 7], [0, 0, 0], [6, 5, 4], [3, 2, 1]])\n",
    "\n",
    "with tf.Session() as sess:\n",
    "    init.run()\n",
    "    Y0_val, Y1_val = sess.run([Y0, Y1],feed_dict={X0:X0_batch, X1:X1_batch})"
   ]
  },
  {
   "cell_type": "code",
   "execution_count": 15,
   "metadata": {},
   "outputs": [
    {
     "data": {
      "text/plain": [
       "array([[ 0.30741334, -0.32884315, -0.6542847 , -0.9385059 ,  0.52089024],\n",
       "       [ 0.99122757, -0.9542541 , -0.7518079 , -0.9995208 ,  0.9820235 ],\n",
       "       [ 0.9999268 , -0.99783254, -0.8247353 , -0.9999963 ,  0.99947774],\n",
       "       [ 0.996771  , -0.68750614,  0.8419969 ,  0.9303911 ,  0.8120684 ]],\n",
       "      dtype=float32)"
      ]
     },
     "execution_count": 15,
     "metadata": {},
     "output_type": "execute_result"
    }
   ],
   "source": [
    "Y0_val"
   ]
  },
  {
   "cell_type": "code",
   "execution_count": 16,
   "metadata": {},
   "outputs": [
    {
     "data": {
      "text/plain": [
       "array([[ 0.99998885, -0.99976057, -0.0667929 , -0.9999803 ,  0.99982214],\n",
       "       [-0.6524943 , -0.51520866, -0.37968948, -0.5922594 , -0.08968379],\n",
       "       [ 0.99862397, -0.99715203, -0.03308626, -0.9991566 ,  0.9932902 ],\n",
       "       [ 0.99681675, -0.9598194 ,  0.39660627, -0.8307606 ,  0.79671973]],\n",
       "      dtype=float32)"
      ]
     },
     "execution_count": 16,
     "metadata": {},
     "output_type": "execute_result"
    }
   ],
   "source": [
    "Y1_val"
   ]
  },
  {
   "cell_type": "markdown",
   "metadata": {},
   "source": [
    "## RNN(Packing sequence)"
   ]
  },
  {
   "cell_type": "code",
   "execution_count": 19,
   "metadata": {},
   "outputs": [],
   "source": [
    "n_steps = 2\n",
    "n_inputs = 3\n",
    "n_neurons = 5"
   ]
  },
  {
   "cell_type": "code",
   "execution_count": 23,
   "metadata": {},
   "outputs": [],
   "source": [
    "reset_graph()\n",
    "\n",
    "X = tf.placeholder(tf.float32, [None, n_steps, n_inputs])\n",
    "X_seqs = tf.unstack(tf.transpose(X, perm=[1,0,2]))\n",
    "\n",
    "basic_cell = tf.nn.rnn_cell.BasicRNNCell(num_units=n_neurons)\n",
    "output_seqs, states = tf.nn.static_rnn(basic_cell, X_seqs, dtype=tf.float32)\n",
    "outputs = tf.transpose(tf.stack(output_seqs), perm=[1,0,2])"
   ]
  },
  {
   "cell_type": "code",
   "execution_count": 24,
   "metadata": {},
   "outputs": [],
   "source": [
    "init = tf.global_variables_initializer()"
   ]
  },
  {
   "cell_type": "code",
   "execution_count": 25,
   "metadata": {},
   "outputs": [],
   "source": [
    "X_batch = np.array([\n",
    "        # t = 0      t = 1 \n",
    "        [[0, 1, 2], [9, 8, 7]], # instance 1\n",
    "        [[3, 4, 5], [0, 0, 0]], # instance 2\n",
    "        [[6, 7, 8], [6, 5, 4]], # instance 3\n",
    "        [[9, 0, 1], [3, 2, 1]], # instance 4\n",
    "    ])\n",
    "\n",
    "with tf.Session() as sess:\n",
    "    init.run()\n",
    "    outputs_val = outputs.eval(feed_dict={X:X_batch})"
   ]
  },
  {
   "cell_type": "code",
   "execution_count": 26,
   "metadata": {},
   "outputs": [
    {
     "data": {
      "text/plain": [
       "array([[[-0.45652324, -0.68064123,  0.40938237,  0.63104504,\n",
       "         -0.45732826],\n",
       "        [-0.9428799 , -0.9998869 ,  0.94055814,  0.9999985 ,\n",
       "         -0.9999997 ]],\n",
       "\n",
       "       [[-0.8001535 , -0.9921827 ,  0.7817797 ,  0.9971032 ,\n",
       "         -0.9964609 ],\n",
       "        [-0.637116  ,  0.11300927,  0.5798437 ,  0.4310559 ,\n",
       "         -0.6371699 ]],\n",
       "\n",
       "       [[-0.93605185, -0.9998379 ,  0.9308867 ,  0.9999815 ,\n",
       "         -0.99998295],\n",
       "        [-0.9165386 , -0.9945604 ,  0.896054  ,  0.99987197,\n",
       "         -0.9999751 ]],\n",
       "\n",
       "       [[ 0.9927369 , -0.9981933 , -0.55543643,  0.9989031 ,\n",
       "         -0.9953323 ],\n",
       "        [-0.02746338, -0.73191994,  0.7827872 ,  0.9525682 ,\n",
       "         -0.9781773 ]]], dtype=float32)"
      ]
     },
     "execution_count": 26,
     "metadata": {},
     "output_type": "execute_result"
    }
   ],
   "source": [
    "outputs_val"
   ]
  },
  {
   "cell_type": "code",
   "execution_count": 28,
   "metadata": {},
   "outputs": [
    {
     "name": "stdout",
     "output_type": "stream",
     "text": [
      "[[-0.9428799  -0.9998869   0.94055814  0.9999985  -0.9999997 ]\n",
      " [-0.637116    0.11300927  0.5798437   0.4310559  -0.6371699 ]\n",
      " [-0.9165386  -0.9945604   0.896054    0.99987197 -0.9999751 ]\n",
      " [-0.02746338 -0.73191994  0.7827872   0.9525682  -0.9781773 ]]\n"
     ]
    }
   ],
   "source": [
    "print(np.transpose(outputs_val, axes=[1,0,2])[1])"
   ]
  },
  {
   "cell_type": "markdown",
   "metadata": {},
   "source": [
    "## RNN(Using dynamic_rnn())"
   ]
  },
  {
   "cell_type": "code",
   "execution_count": 29,
   "metadata": {},
   "outputs": [],
   "source": [
    "n_steps = 2\n",
    "n_inputs = 3\n",
    "n_neurons = 5"
   ]
  },
  {
   "cell_type": "code",
   "execution_count": 30,
   "metadata": {},
   "outputs": [],
   "source": [
    "reset_graph()\n",
    "\n",
    "X = tf.placeholder(tf.float32, [None, n_steps, n_inputs])\n",
    "\n",
    "basic_cell = tf.nn.rnn_cell.BasicRNNCell(num_units=n_neurons)\n",
    "outputs, states = tf.nn.dynamic_rnn(basic_cell, X, dtype=tf.float32)"
   ]
  },
  {
   "cell_type": "code",
   "execution_count": 31,
   "metadata": {},
   "outputs": [],
   "source": [
    "init = tf.global_variables_initializer()"
   ]
  },
  {
   "cell_type": "code",
   "execution_count": 32,
   "metadata": {},
   "outputs": [],
   "source": [
    "X_batch = np.array([\n",
    "        # t = 0      t = 1 \n",
    "        [[0, 1, 2], [9, 8, 7]], # instance 1\n",
    "        [[3, 4, 5], [0, 0, 0]], # instance 2\n",
    "        [[6, 7, 8], [6, 5, 4]], # instance 3\n",
    "        [[9, 0, 1], [3, 2, 1]], # instance 4\n",
    "    ])\n",
    "\n",
    "with tf.Session() as sess:\n",
    "    init.run()\n",
    "    outputs_val = outputs.eval(feed_dict={X:X_batch})"
   ]
  },
  {
   "cell_type": "code",
   "execution_count": 34,
   "metadata": {},
   "outputs": [
    {
     "name": "stdout",
     "output_type": "stream",
     "text": [
      "[[[-0.85115266  0.87358344  0.5802911   0.8954789  -0.0557505 ]\n",
      "  [-0.999996    0.99999577  0.9981815   1.          0.37679607]]\n",
      "\n",
      " [[-0.9983293   0.9992038   0.98071456  0.999985    0.25192663]\n",
      "  [-0.7081804  -0.0772338  -0.85227895  0.5845349  -0.78780943]]\n",
      "\n",
      " [[-0.9999827   0.99999535  0.9992863   1.          0.5159072 ]\n",
      "  [-0.9993956   0.9984095   0.83422637  0.99999976 -0.47325212]]\n",
      "\n",
      " [[ 0.87888587  0.07356028  0.97216916  0.9998546  -0.7351168 ]\n",
      "  [-0.9134514   0.3600957   0.7624866   0.99817705  0.80142   ]]]\n"
     ]
    }
   ],
   "source": [
    "print(outputs_val)"
   ]
  },
  {
   "cell_type": "code",
   "execution_count": 35,
   "metadata": {},
   "outputs": [
    {
     "data": {
      "text/plain": [
       "(4, 2, 5)"
      ]
     },
     "execution_count": 35,
     "metadata": {},
     "output_type": "execute_result"
    }
   ],
   "source": [
    "outputs_val.shape"
   ]
  },
  {
   "cell_type": "markdown",
   "metadata": {},
   "source": [
    "## RNN(Setting the sequence length)"
   ]
  },
  {
   "cell_type": "code",
   "execution_count": 37,
   "metadata": {},
   "outputs": [],
   "source": [
    "n_steps = 2\n",
    "n_inputs = 3\n",
    "n_neurons = 5\n",
    "\n",
    "reset_graph()\n",
    "\n",
    "X = tf.placeholder(tf.float32, [None, n_steps, n_inputs])\n",
    "basic_cell = tf.nn.rnn_cell.BasicRNNCell(num_units=n_neurons)"
   ]
  },
  {
   "cell_type": "code",
   "execution_count": 38,
   "metadata": {},
   "outputs": [],
   "source": [
    "seq_length = tf.placeholder(tf.int32, [None])\n",
    "outputs, states = tf.nn.dynamic_rnn(basic_cell, X, dtype=tf.float32, sequence_length=seq_length)"
   ]
  },
  {
   "cell_type": "code",
   "execution_count": 39,
   "metadata": {},
   "outputs": [],
   "source": [
    "init = tf.global_variables_initializer()"
   ]
  },
  {
   "cell_type": "code",
   "execution_count": 40,
   "metadata": {},
   "outputs": [],
   "source": [
    "X_batch = np.array([\n",
    "        # step 0     step 1\n",
    "        [[0, 1, 2], [9, 8, 7]], # instance 1\n",
    "        [[3, 4, 5], [0, 0, 0]], # instance 2 (padded with zero vectors)\n",
    "        [[6, 7, 8], [6, 5, 4]], # instance 3\n",
    "        [[9, 0, 1], [3, 2, 1]], # instance 4\n",
    "    ])\n",
    "\n",
    "seq_length_batch = np.array([2,1,2,2])"
   ]
  },
  {
   "cell_type": "code",
   "execution_count": 41,
   "metadata": {},
   "outputs": [],
   "source": [
    "with tf.Session() as sess:\n",
    "    init.run()\n",
    "    outputs_val, states_val = sess.run([outputs, states], feed_dict={X:X_batch, seq_length:seq_length_batch})"
   ]
  },
  {
   "cell_type": "code",
   "execution_count": 43,
   "metadata": {},
   "outputs": [
    {
     "name": "stdout",
     "output_type": "stream",
     "text": [
      "[[[-0.9123188   0.16516446  0.5548655  -0.39159346  0.20846416]\n",
      "  [-1.          0.956726    0.99831694  0.99970174  0.96518576]]\n",
      "\n",
      " [[-0.9998612   0.6702289   0.9723653   0.6631046   0.74457586]\n",
      "  [ 0.          0.          0.          0.          0.        ]]\n",
      "\n",
      " [[-0.99999976  0.8967997   0.9986295   0.9647514   0.93662   ]\n",
      "  [-0.9999526   0.9681953   0.96002865  0.98706263  0.85459226]]\n",
      "\n",
      " [[-0.96435434  0.99501586 -0.36150697  0.9983378   0.999497  ]\n",
      "  [-0.9613586   0.9568762   0.7132288   0.97729224 -0.0958299 ]]]\n"
     ]
    },
    {
     "data": {
      "text/plain": [
       "(4, 2, 5)"
      ]
     },
     "execution_count": 43,
     "metadata": {},
     "output_type": "execute_result"
    }
   ],
   "source": [
    "print(outputs_val)\n",
    "outputs_val.shape"
   ]
  },
  {
   "cell_type": "code",
   "execution_count": 44,
   "metadata": {},
   "outputs": [
    {
     "name": "stdout",
     "output_type": "stream",
     "text": [
      "[[-1.          0.956726    0.99831694  0.99970174  0.96518576]\n",
      " [-0.9998612   0.6702289   0.9723653   0.6631046   0.74457586]\n",
      " [-0.9999526   0.9681953   0.96002865  0.98706263  0.85459226]\n",
      " [-0.9613586   0.9568762   0.7132288   0.97729224 -0.0958299 ]]\n"
     ]
    }
   ],
   "source": [
    "print(states_val)"
   ]
  },
  {
   "cell_type": "markdown",
   "metadata": {},
   "source": [
    "## RNN(Training)"
   ]
  },
  {
   "cell_type": "code",
   "execution_count": 4,
   "metadata": {},
   "outputs": [],
   "source": [
    "reset_graph()\n",
    "n_steps = 28\n",
    "n_inputs = 28\n",
    "n_neurons = 150\n",
    "n_outputs = 10\n",
    "\n",
    "learning_rate = 0.001\n",
    "\n",
    "X = tf.placeholder(tf.float32, [None, n_steps, n_inputs])\n",
    "y = tf.placeholder(tf.int32, [None])\n",
    "\n",
    "basic_cell = tf.nn.rnn_cell.BasicRNNCell(num_units=n_neurons)\n",
    "outputs, states = tf.nn.dynamic_rnn(basic_cell, X, dtype=tf.float32)\n",
    "\n",
    "logits = tf.layers.dense(states, n_outputs)\n",
    "xentropy = tf.nn.sparse_softmax_cross_entropy_with_logits(labels=y, logits=logits)\n",
    "loss = tf.reduce_mean(xentropy)\n",
    "optimizer = tf.train.AdamOptimizer(learning_rate=learning_rate)\n",
    "training_op = optimizer.minimize(loss)\n",
    "correct = tf.nn.in_top_k(logits, y, 1)\n",
    "accuracy = tf.reduce_mean(tf.cast(correct, tf.float32))\n",
    "\n",
    "init = tf.global_variables_initializer()"
   ]
  },
  {
   "cell_type": "code",
   "execution_count": 5,
   "metadata": {},
   "outputs": [],
   "source": [
    "(X_train, y_train), (X_test, y_test) = tf.keras.datasets.mnist.load_data()\n",
    "X_train = X_train.astype(np.float32).reshape(-1, 28*28) / 255.0\n",
    "X_test = X_test.astype(np.float32).reshape(-1, 28*28) / 255.0\n",
    "y_train = y_train.astype(np.int32)\n",
    "y_test = y_test.astype(np.int32)\n",
    "X_valid, X_train = X_train[:5000], X_train[5000:]\n",
    "y_valid, y_train = y_train[:5000], y_train[5000:]"
   ]
  },
  {
   "cell_type": "code",
   "execution_count": 6,
   "metadata": {},
   "outputs": [],
   "source": [
    "def shuffle_batch(X, y, batch_size):\n",
    "    rnd_idx = np.random.permutation(len(X))\n",
    "    n_batches = len(X) // batch_size\n",
    "    for batch_idx in np.array_split(rnd_idx, n_batches):\n",
    "        X_batch, y_batch = X[batch_idx], y[batch_idx]\n",
    "        yield X_batch, y_batch"
   ]
  },
  {
   "cell_type": "code",
   "execution_count": 7,
   "metadata": {},
   "outputs": [],
   "source": [
    "X_test = X_test.reshape((-1, n_steps, n_inputs))"
   ]
  },
  {
   "cell_type": "code",
   "execution_count": 8,
   "metadata": {},
   "outputs": [
    {
     "name": "stdout",
     "output_type": "stream",
     "text": [
      "0 Last batch accuracy: 0.9533333 Test accuracy: 0.9288\n",
      "1 Last batch accuracy: 0.96 Test accuracy: 0.9471\n",
      "2 Last batch accuracy: 0.96 Test accuracy: 0.95\n",
      "3 Last batch accuracy: 0.96666664 Test accuracy: 0.9574\n",
      "4 Last batch accuracy: 0.97333336 Test accuracy: 0.9663\n",
      "5 Last batch accuracy: 0.9266667 Test accuracy: 0.9658\n",
      "6 Last batch accuracy: 0.96666664 Test accuracy: 0.9657\n",
      "7 Last batch accuracy: 0.96666664 Test accuracy: 0.9727\n",
      "8 Last batch accuracy: 0.9866667 Test accuracy: 0.9711\n",
      "9 Last batch accuracy: 0.98 Test accuracy: 0.9726\n",
      "10 Last batch accuracy: 0.9866667 Test accuracy: 0.9707\n",
      "11 Last batch accuracy: 0.97333336 Test accuracy: 0.9743\n",
      "12 Last batch accuracy: 0.96 Test accuracy: 0.9754\n",
      "13 Last batch accuracy: 0.9533333 Test accuracy: 0.9528\n",
      "14 Last batch accuracy: 0.97333336 Test accuracy: 0.9793\n",
      "15 Last batch accuracy: 0.9866667 Test accuracy: 0.9755\n",
      "16 Last batch accuracy: 0.98 Test accuracy: 0.9683\n",
      "17 Last batch accuracy: 0.98 Test accuracy: 0.9754\n",
      "18 Last batch accuracy: 0.9866667 Test accuracy: 0.9787\n",
      "19 Last batch accuracy: 0.98 Test accuracy: 0.9765\n",
      "20 Last batch accuracy: 0.99333334 Test accuracy: 0.9764\n",
      "21 Last batch accuracy: 0.98 Test accuracy: 0.9745\n",
      "22 Last batch accuracy: 0.9866667 Test accuracy: 0.977\n",
      "23 Last batch accuracy: 0.99333334 Test accuracy: 0.9799\n",
      "24 Last batch accuracy: 0.98 Test accuracy: 0.9776\n",
      "25 Last batch accuracy: 0.9866667 Test accuracy: 0.9774\n",
      "26 Last batch accuracy: 0.9866667 Test accuracy: 0.9785\n",
      "27 Last batch accuracy: 1.0 Test accuracy: 0.979\n",
      "28 Last batch accuracy: 0.9866667 Test accuracy: 0.9724\n",
      "29 Last batch accuracy: 0.96666664 Test accuracy: 0.9792\n",
      "30 Last batch accuracy: 0.99333334 Test accuracy: 0.9808\n",
      "31 Last batch accuracy: 0.98 Test accuracy: 0.9762\n",
      "32 Last batch accuracy: 0.99333334 Test accuracy: 0.9782\n",
      "33 Last batch accuracy: 0.9866667 Test accuracy: 0.9743\n",
      "34 Last batch accuracy: 0.99333334 Test accuracy: 0.9741\n",
      "35 Last batch accuracy: 1.0 Test accuracy: 0.9807\n",
      "36 Last batch accuracy: 0.97333336 Test accuracy: 0.9772\n",
      "37 Last batch accuracy: 0.99333334 Test accuracy: 0.9786\n",
      "38 Last batch accuracy: 0.99333334 Test accuracy: 0.9808\n",
      "39 Last batch accuracy: 0.99333334 Test accuracy: 0.9811\n",
      "40 Last batch accuracy: 0.9866667 Test accuracy: 0.9795\n",
      "41 Last batch accuracy: 0.99333334 Test accuracy: 0.977\n",
      "42 Last batch accuracy: 0.9866667 Test accuracy: 0.98\n",
      "43 Last batch accuracy: 0.99333334 Test accuracy: 0.9778\n",
      "44 Last batch accuracy: 0.99333334 Test accuracy: 0.9808\n",
      "45 Last batch accuracy: 0.9866667 Test accuracy: 0.9816\n",
      "46 Last batch accuracy: 0.99333334 Test accuracy: 0.9775\n",
      "47 Last batch accuracy: 1.0 Test accuracy: 0.9799\n",
      "48 Last batch accuracy: 1.0 Test accuracy: 0.9742\n",
      "49 Last batch accuracy: 0.99333334 Test accuracy: 0.9803\n",
      "50 Last batch accuracy: 0.99333334 Test accuracy: 0.9797\n",
      "51 Last batch accuracy: 1.0 Test accuracy: 0.9781\n",
      "52 Last batch accuracy: 0.99333334 Test accuracy: 0.9791\n",
      "53 Last batch accuracy: 0.9866667 Test accuracy: 0.9831\n",
      "54 Last batch accuracy: 0.99333334 Test accuracy: 0.9792\n",
      "55 Last batch accuracy: 1.0 Test accuracy: 0.9809\n",
      "56 Last batch accuracy: 0.98 Test accuracy: 0.9807\n",
      "57 Last batch accuracy: 0.9866667 Test accuracy: 0.9734\n",
      "58 Last batch accuracy: 1.0 Test accuracy: 0.9773\n",
      "59 Last batch accuracy: 0.98 Test accuracy: 0.9639\n",
      "60 Last batch accuracy: 0.99333334 Test accuracy: 0.9767\n",
      "61 Last batch accuracy: 1.0 Test accuracy: 0.98\n",
      "62 Last batch accuracy: 0.99333334 Test accuracy: 0.9798\n",
      "63 Last batch accuracy: 0.99333334 Test accuracy: 0.9779\n",
      "64 Last batch accuracy: 0.99333334 Test accuracy: 0.9793\n",
      "65 Last batch accuracy: 0.98 Test accuracy: 0.9762\n",
      "66 Last batch accuracy: 1.0 Test accuracy: 0.9795\n",
      "67 Last batch accuracy: 0.99333334 Test accuracy: 0.9765\n",
      "68 Last batch accuracy: 0.9866667 Test accuracy: 0.9818\n",
      "69 Last batch accuracy: 0.99333334 Test accuracy: 0.9795\n",
      "70 Last batch accuracy: 0.99333334 Test accuracy: 0.9812\n",
      "71 Last batch accuracy: 1.0 Test accuracy: 0.9784\n",
      "72 Last batch accuracy: 0.98 Test accuracy: 0.9742\n",
      "73 Last batch accuracy: 0.99333334 Test accuracy: 0.9784\n",
      "74 Last batch accuracy: 0.9866667 Test accuracy: 0.9766\n",
      "75 Last batch accuracy: 0.99333334 Test accuracy: 0.9789\n",
      "76 Last batch accuracy: 1.0 Test accuracy: 0.9759\n",
      "77 Last batch accuracy: 0.9866667 Test accuracy: 0.9747\n",
      "78 Last batch accuracy: 1.0 Test accuracy: 0.9791\n",
      "79 Last batch accuracy: 0.99333334 Test accuracy: 0.9732\n",
      "80 Last batch accuracy: 1.0 Test accuracy: 0.978\n",
      "81 Last batch accuracy: 0.9866667 Test accuracy: 0.9757\n",
      "82 Last batch accuracy: 0.9866667 Test accuracy: 0.9783\n",
      "83 Last batch accuracy: 0.99333334 Test accuracy: 0.976\n",
      "84 Last batch accuracy: 1.0 Test accuracy: 0.9792\n",
      "85 Last batch accuracy: 0.99333334 Test accuracy: 0.9766\n",
      "86 Last batch accuracy: 0.9866667 Test accuracy: 0.9789\n",
      "87 Last batch accuracy: 0.9866667 Test accuracy: 0.9721\n",
      "88 Last batch accuracy: 0.9866667 Test accuracy: 0.9741\n",
      "89 Last batch accuracy: 1.0 Test accuracy: 0.9825\n",
      "90 Last batch accuracy: 1.0 Test accuracy: 0.973\n",
      "91 Last batch accuracy: 0.99333334 Test accuracy: 0.9791\n",
      "92 Last batch accuracy: 0.9866667 Test accuracy: 0.9767\n",
      "93 Last batch accuracy: 0.9866667 Test accuracy: 0.9767\n",
      "94 Last batch accuracy: 0.99333334 Test accuracy: 0.9792\n",
      "95 Last batch accuracy: 0.99333334 Test accuracy: 0.9805\n",
      "96 Last batch accuracy: 1.0 Test accuracy: 0.9769\n",
      "97 Last batch accuracy: 0.99333334 Test accuracy: 0.9806\n",
      "98 Last batch accuracy: 1.0 Test accuracy: 0.9803\n",
      "99 Last batch accuracy: 0.98 Test accuracy: 0.9744\n"
     ]
    }
   ],
   "source": [
    "n_epochs = 100\n",
    "batch_size = 150\n",
    "\n",
    "with tf.Session() as sess:\n",
    "    init.run()\n",
    "    for epoch in range(n_epochs):\n",
    "        for X_batch, y_batch in shuffle_batch(X_train, y_train, batch_size):\n",
    "            X_batch = X_batch.reshape((-1,n_steps,n_inputs))\n",
    "            sess.run(training_op, feed_dict={X:X_batch, y:y_batch})\n",
    "        acc_batch = accuracy.eval(feed_dict={X:X_batch, y:y_batch})\n",
    "        acc_test = accuracy.eval(feed_dict={X:X_test, y:y_test})\n",
    "        print(epoch, \"Last batch accuracy:\", acc_batch, \"Test accuracy:\", acc_test)"
   ]
  },
  {
   "cell_type": "markdown",
   "metadata": {},
   "source": [
    "## RNN(Time Series)"
   ]
  },
  {
   "cell_type": "code",
   "execution_count": 9,
   "metadata": {},
   "outputs": [],
   "source": [
    "t_min, t_max = 0, 30\n",
    "resolution = 0.1\n",
    "\n",
    "def time_series(t):\n",
    "    return t * np.sin(t) / 3 + 2 * np.sin(t*5)\n",
    "\n",
    "def next_batch(batch_size, n_steps):\n",
    "    t0 = np.random.rand(batch_size, 1) * (t_max - t_min - n_steps * resolution)\n",
    "    Ts = t0 + np.arange(0., n_steps + 1) * resolution\n",
    "    ys = time_series(Ts)\n",
    "    return ys[:, :-1].reshape(-1, n_steps, 1), ys[:, 1:].reshape(-1, n_steps, 1)"
   ]
  },
  {
   "cell_type": "code",
   "execution_count": 10,
   "metadata": {},
   "outputs": [],
   "source": [
    "t = np.linspace(t_min, t_max, int((t_max - t_min) / resolution))\n",
    "n_steps = 20\n",
    "t_instance = np.linspace(12.2, 12.2 + resolution * (n_steps + 1), n_steps + 1)"
   ]
  },
  {
   "cell_type": "code",
   "execution_count": 11,
   "metadata": {},
   "outputs": [],
   "source": [
    "X_batch, y_batch = next_batch(1, n_steps)"
   ]
  },
  {
   "cell_type": "code",
   "execution_count": 12,
   "metadata": {},
   "outputs": [
    {
     "data": {
      "text/plain": [
       "array([[-4.50341339, -4.14236382],\n",
       "       [-4.14236382, -3.92870702],\n",
       "       [-3.92870702, -4.0488651 ],\n",
       "       [-4.0488651 , -4.59566362],\n",
       "       [-4.59566362, -5.54426493],\n",
       "       [-5.54426493, -6.75703201],\n",
       "       [-6.75703201, -8.0161452 ],\n",
       "       [-8.0161452 , -9.07599852],\n",
       "       [-9.07599852, -9.72255772],\n",
       "       [-9.72255772, -9.82515641],\n",
       "       [-9.82515641, -9.36805638],\n",
       "       [-9.36805638, -8.45405093],\n",
       "       [-8.45405093, -7.27923294],\n",
       "       [-7.27923294, -6.08510771],\n",
       "       [-6.08510771, -5.09977511],\n",
       "       [-5.09977511, -4.48258027],\n",
       "       [-4.48258027, -4.28578062],\n",
       "       [-4.28578062, -4.44260919],\n",
       "       [-4.44260919, -4.78464929],\n",
       "       [-4.78464929, -5.08425773]])"
      ]
     },
     "execution_count": 12,
     "metadata": {},
     "output_type": "execute_result"
    }
   ],
   "source": [
    "np.c_[X_batch[0], y_batch[0]]"
   ]
  },
  {
   "cell_type": "code",
   "execution_count": 15,
   "metadata": {},
   "outputs": [],
   "source": [
    "# reset_graph()\n",
    "# n_steps = 20\n",
    "# n_inputs = 1\n",
    "# n_neurons = 100\n",
    "# n_outputs = 1\n",
    "\n",
    "# learning_rate = 0.001\n",
    "\n",
    "# X = tf.placeholder(tf.float32, [None, n_steps, n_inputs])\n",
    "# y = tf.placeholder(tf.float32, [None, n_steps, n_outputs])\n",
    "\n",
    "# cell = tf.nn.rnn_cell.BasicRNNCell(num_units=n_neurons, activation=tf.nn.relu)\n",
    "# outputs, states = tf.nn.dynamic_rnn(cell, X, dtype=tf.float32)"
   ]
  },
  {
   "cell_type": "code",
   "execution_count": 16,
   "metadata": {},
   "outputs": [],
   "source": [
    "reset_graph()\n",
    "\n",
    "n_steps = 20\n",
    "n_inputs = 1\n",
    "n_neurons = 100\n",
    "n_outputs = 1\n",
    "\n",
    "X = tf.placeholder(tf.float32, [None, n_steps, n_inputs])\n",
    "y = tf.placeholder(tf.float32, [None, n_steps, n_outputs])"
   ]
  },
  {
   "cell_type": "code",
   "execution_count": 17,
   "metadata": {},
   "outputs": [],
   "source": [
    "cell = tf.contrib.rnn.OutputProjectionWrapper(\n",
    "tf.nn.rnn_cell.BasicRNNCell(num_units=n_neurons, activation=tf.nn.relu),\n",
    "    output_size=n_outputs)"
   ]
  },
  {
   "cell_type": "code",
   "execution_count": 18,
   "metadata": {},
   "outputs": [],
   "source": [
    "outputs, states = tf.nn.dynamic_rnn(cell, X, dtype=tf.float32)"
   ]
  },
  {
   "cell_type": "code",
   "execution_count": 19,
   "metadata": {},
   "outputs": [],
   "source": [
    "learning_rate = 0.001\n",
    "\n",
    "loss = tf.reduce_mean(tf.square(outputs - y))\n",
    "optimizer = tf.train.AdamOptimizer(learning_rate=learning_rate)\n",
    "training_op = optimizer.minimize(loss)\n",
    "\n",
    "init = tf.global_variables_initializer()"
   ]
  },
  {
   "cell_type": "code",
   "execution_count": 21,
   "metadata": {},
   "outputs": [],
   "source": [
    "saver = tf.train.Saver()"
   ]
  },
  {
   "cell_type": "code",
   "execution_count": 22,
   "metadata": {},
   "outputs": [
    {
     "name": "stdout",
     "output_type": "stream",
     "text": [
      "0 \tMSE: 11.967254\n",
      "100 \tMSE: 0.525841\n",
      "200 \tMSE: 0.1495599\n",
      "300 \tMSE: 0.07279411\n",
      "400 \tMSE: 0.06158535\n",
      "500 \tMSE: 0.05938873\n",
      "600 \tMSE: 0.05470166\n",
      "700 \tMSE: 0.047849063\n",
      "800 \tMSE: 0.05107608\n",
      "900 \tMSE: 0.047209196\n",
      "1000 \tMSE: 0.047058314\n",
      "1100 \tMSE: 0.047831465\n",
      "1200 \tMSE: 0.04083041\n",
      "1300 \tMSE: 0.047086805\n",
      "1400 \tMSE: 0.041784383\n"
     ]
    }
   ],
   "source": [
    "n_iterations = 1500\n",
    "batch_size = 50\n",
    "\n",
    "with tf.Session() as sess:\n",
    "    init.run()\n",
    "    for iteration in range(n_iterations):\n",
    "        X_batch, y_batch = next_batch(batch_size, n_steps)\n",
    "        sess.run(training_op, feed_dict={X:X_batch, y:y_batch})\n",
    "        if iteration % 100 == 0:\n",
    "            mse = loss.eval(feed_dict={X:X_batch, y:y_batch})\n",
    "            print(iteration, \"\\tMSE:\", mse)\n",
    "            \n",
    "    saver.save(sess, \"./my_time_series_model\")"
   ]
  },
  {
   "cell_type": "code",
   "execution_count": 23,
   "metadata": {},
   "outputs": [
    {
     "name": "stdout",
     "output_type": "stream",
     "text": [
      "INFO:tensorflow:Restoring parameters from ./my_time_series_model\n"
     ]
    }
   ],
   "source": [
    "with tf.Session() as sess:\n",
    "    saver.restore(sess, \"./my_time_series_model\")\n",
    "    \n",
    "    X_new = time_series(np.array(t_instance[:-1].reshape(-1, n_steps, n_inputs)))\n",
    "    y_pred = sess.run(outputs, feed_dict={X:X_new})"
   ]
  },
  {
   "cell_type": "code",
   "execution_count": 24,
   "metadata": {},
   "outputs": [
    {
     "data": {
      "text/plain": [
       "array([[[-3.407753 ],\n",
       "        [-2.4575484],\n",
       "        [-1.1029298],\n",
       "        [ 0.7815629],\n",
       "        [ 2.2002175],\n",
       "        [ 3.126768 ],\n",
       "        [ 3.4037762],\n",
       "        [ 3.3489153],\n",
       "        [ 2.8798013],\n",
       "        [ 2.2659323],\n",
       "        [ 1.6447463],\n",
       "        [ 1.5210768],\n",
       "        [ 1.8972012],\n",
       "        [ 2.7159088],\n",
       "        [ 3.8894904],\n",
       "        [ 5.140914 ],\n",
       "        [ 6.142068 ],\n",
       "        [ 6.666671 ],\n",
       "        [ 6.6410103],\n",
       "        [ 6.0725527]]], dtype=float32)"
      ]
     },
     "execution_count": 24,
     "metadata": {},
     "output_type": "execute_result"
    }
   ],
   "source": [
    "y_pred"
   ]
  },
  {
   "cell_type": "code",
   "execution_count": 25,
   "metadata": {},
   "outputs": [
    {
     "name": "stdout",
     "output_type": "stream",
     "text": [
      "Saving figure time_series_pred_plot\n"
     ]
    },
    {
     "ename": "FileNotFoundError",
     "evalue": "[Errno 2] No such file or directory: './images/ann/time_series_pred_plot.png'",
     "output_type": "error",
     "traceback": [
      "\u001b[0;31m---------------------------------------------------------------------------\u001b[0m",
      "\u001b[0;31mFileNotFoundError\u001b[0m                         Traceback (most recent call last)",
      "\u001b[0;32m<ipython-input-25-29a1b2d9fb8a>\u001b[0m in \u001b[0;36m<module>\u001b[0;34m\u001b[0m\n\u001b[1;32m      6\u001b[0m \u001b[0mplt\u001b[0m\u001b[0;34m.\u001b[0m\u001b[0mxlabel\u001b[0m\u001b[0;34m(\u001b[0m\u001b[0;34m\"Time\"\u001b[0m\u001b[0;34m)\u001b[0m\u001b[0;34m\u001b[0m\u001b[0m\n\u001b[1;32m      7\u001b[0m \u001b[0;34m\u001b[0m\u001b[0m\n\u001b[0;32m----> 8\u001b[0;31m \u001b[0msave_fig\u001b[0m\u001b[0;34m(\u001b[0m\u001b[0;34m\"time_series_pred_plot\"\u001b[0m\u001b[0;34m)\u001b[0m\u001b[0;34m\u001b[0m\u001b[0m\n\u001b[0m\u001b[1;32m      9\u001b[0m \u001b[0mplt\u001b[0m\u001b[0;34m.\u001b[0m\u001b[0mshow\u001b[0m\u001b[0;34m(\u001b[0m\u001b[0;34m)\u001b[0m\u001b[0;34m\u001b[0m\u001b[0m\n",
      "\u001b[0;32m<ipython-input-1-9e5d2216a160>\u001b[0m in \u001b[0;36msave_fig\u001b[0;34m(fig_id, tight_layout)\u001b[0m\n\u001b[1;32m     29\u001b[0m     \u001b[0;32mif\u001b[0m \u001b[0mtight_layout\u001b[0m\u001b[0;34m:\u001b[0m\u001b[0;34m\u001b[0m\u001b[0m\n\u001b[1;32m     30\u001b[0m         \u001b[0mplt\u001b[0m\u001b[0;34m.\u001b[0m\u001b[0mtight_layout\u001b[0m\u001b[0;34m(\u001b[0m\u001b[0;34m)\u001b[0m\u001b[0;34m\u001b[0m\u001b[0m\n\u001b[0;32m---> 31\u001b[0;31m     \u001b[0mplt\u001b[0m\u001b[0;34m.\u001b[0m\u001b[0msavefig\u001b[0m\u001b[0;34m(\u001b[0m\u001b[0mpath\u001b[0m\u001b[0;34m,\u001b[0m \u001b[0mformat\u001b[0m\u001b[0;34m=\u001b[0m\u001b[0;34m'png'\u001b[0m\u001b[0;34m,\u001b[0m \u001b[0mdpi\u001b[0m\u001b[0;34m=\u001b[0m\u001b[0;36m300\u001b[0m\u001b[0;34m)\u001b[0m\u001b[0;34m\u001b[0m\u001b[0m\n\u001b[0m",
      "\u001b[0;32m~/.pyenv/versions/3.6.6/envs/kc-t-py3.6.6/lib/python3.6/site-packages/matplotlib/pyplot.py\u001b[0m in \u001b[0;36msavefig\u001b[0;34m(*args, **kwargs)\u001b[0m\n\u001b[1;32m    687\u001b[0m \u001b[0;32mdef\u001b[0m \u001b[0msavefig\u001b[0m\u001b[0;34m(\u001b[0m\u001b[0;34m*\u001b[0m\u001b[0margs\u001b[0m\u001b[0;34m,\u001b[0m \u001b[0;34m**\u001b[0m\u001b[0mkwargs\u001b[0m\u001b[0;34m)\u001b[0m\u001b[0;34m:\u001b[0m\u001b[0;34m\u001b[0m\u001b[0m\n\u001b[1;32m    688\u001b[0m     \u001b[0mfig\u001b[0m \u001b[0;34m=\u001b[0m \u001b[0mgcf\u001b[0m\u001b[0;34m(\u001b[0m\u001b[0;34m)\u001b[0m\u001b[0;34m\u001b[0m\u001b[0m\n\u001b[0;32m--> 689\u001b[0;31m     \u001b[0mres\u001b[0m \u001b[0;34m=\u001b[0m \u001b[0mfig\u001b[0m\u001b[0;34m.\u001b[0m\u001b[0msavefig\u001b[0m\u001b[0;34m(\u001b[0m\u001b[0;34m*\u001b[0m\u001b[0margs\u001b[0m\u001b[0;34m,\u001b[0m \u001b[0;34m**\u001b[0m\u001b[0mkwargs\u001b[0m\u001b[0;34m)\u001b[0m\u001b[0;34m\u001b[0m\u001b[0m\n\u001b[0m\u001b[1;32m    690\u001b[0m     \u001b[0mfig\u001b[0m\u001b[0;34m.\u001b[0m\u001b[0mcanvas\u001b[0m\u001b[0;34m.\u001b[0m\u001b[0mdraw_idle\u001b[0m\u001b[0;34m(\u001b[0m\u001b[0;34m)\u001b[0m   \u001b[0;31m# need this if 'transparent=True' to reset colors\u001b[0m\u001b[0;34m\u001b[0m\u001b[0m\n\u001b[1;32m    691\u001b[0m     \u001b[0;32mreturn\u001b[0m \u001b[0mres\u001b[0m\u001b[0;34m\u001b[0m\u001b[0m\n",
      "\u001b[0;32m~/.pyenv/versions/3.6.6/envs/kc-t-py3.6.6/lib/python3.6/site-packages/matplotlib/figure.py\u001b[0m in \u001b[0;36msavefig\u001b[0;34m(self, fname, frameon, transparent, **kwargs)\u001b[0m\n\u001b[1;32m   2092\u001b[0m             \u001b[0mself\u001b[0m\u001b[0;34m.\u001b[0m\u001b[0mset_frameon\u001b[0m\u001b[0;34m(\u001b[0m\u001b[0mframeon\u001b[0m\u001b[0;34m)\u001b[0m\u001b[0;34m\u001b[0m\u001b[0m\n\u001b[1;32m   2093\u001b[0m \u001b[0;34m\u001b[0m\u001b[0m\n\u001b[0;32m-> 2094\u001b[0;31m         \u001b[0mself\u001b[0m\u001b[0;34m.\u001b[0m\u001b[0mcanvas\u001b[0m\u001b[0;34m.\u001b[0m\u001b[0mprint_figure\u001b[0m\u001b[0;34m(\u001b[0m\u001b[0mfname\u001b[0m\u001b[0;34m,\u001b[0m \u001b[0;34m**\u001b[0m\u001b[0mkwargs\u001b[0m\u001b[0;34m)\u001b[0m\u001b[0;34m\u001b[0m\u001b[0m\n\u001b[0m\u001b[1;32m   2095\u001b[0m \u001b[0;34m\u001b[0m\u001b[0m\n\u001b[1;32m   2096\u001b[0m         \u001b[0;32mif\u001b[0m \u001b[0mframeon\u001b[0m\u001b[0;34m:\u001b[0m\u001b[0;34m\u001b[0m\u001b[0m\n",
      "\u001b[0;32m~/.pyenv/versions/3.6.6/envs/kc-t-py3.6.6/lib/python3.6/site-packages/matplotlib/backend_bases.py\u001b[0m in \u001b[0;36mprint_figure\u001b[0;34m(self, filename, dpi, facecolor, edgecolor, orientation, format, bbox_inches, **kwargs)\u001b[0m\n\u001b[1;32m   2073\u001b[0m                     \u001b[0morientation\u001b[0m\u001b[0;34m=\u001b[0m\u001b[0morientation\u001b[0m\u001b[0;34m,\u001b[0m\u001b[0;34m\u001b[0m\u001b[0m\n\u001b[1;32m   2074\u001b[0m                     \u001b[0mbbox_inches_restore\u001b[0m\u001b[0;34m=\u001b[0m\u001b[0m_bbox_inches_restore\u001b[0m\u001b[0;34m,\u001b[0m\u001b[0;34m\u001b[0m\u001b[0m\n\u001b[0;32m-> 2075\u001b[0;31m                     **kwargs)\n\u001b[0m\u001b[1;32m   2076\u001b[0m             \u001b[0;32mfinally\u001b[0m\u001b[0;34m:\u001b[0m\u001b[0;34m\u001b[0m\u001b[0m\n\u001b[1;32m   2077\u001b[0m                 \u001b[0;32mif\u001b[0m \u001b[0mbbox_inches\u001b[0m \u001b[0;32mand\u001b[0m \u001b[0mrestore_bbox\u001b[0m\u001b[0;34m:\u001b[0m\u001b[0;34m\u001b[0m\u001b[0m\n",
      "\u001b[0;32m~/.pyenv/versions/3.6.6/envs/kc-t-py3.6.6/lib/python3.6/site-packages/matplotlib/backends/backend_agg.py\u001b[0m in \u001b[0;36mprint_png\u001b[0;34m(self, filename_or_obj, *args, **kwargs)\u001b[0m\n\u001b[1;32m    519\u001b[0m \u001b[0;34m\u001b[0m\u001b[0m\n\u001b[1;32m    520\u001b[0m         \u001b[0;32mwith\u001b[0m \u001b[0mcbook\u001b[0m\u001b[0;34m.\u001b[0m\u001b[0m_setattr_cm\u001b[0m\u001b[0;34m(\u001b[0m\u001b[0mrenderer\u001b[0m\u001b[0;34m,\u001b[0m \u001b[0mdpi\u001b[0m\u001b[0;34m=\u001b[0m\u001b[0mself\u001b[0m\u001b[0;34m.\u001b[0m\u001b[0mfigure\u001b[0m\u001b[0;34m.\u001b[0m\u001b[0mdpi\u001b[0m\u001b[0;34m)\u001b[0m\u001b[0;34m,\u001b[0m\u001b[0;31m \u001b[0m\u001b[0;31m\\\u001b[0m\u001b[0;34m\u001b[0m\u001b[0m\n\u001b[0;32m--> 521\u001b[0;31m                 \u001b[0mcbook\u001b[0m\u001b[0;34m.\u001b[0m\u001b[0mopen_file_cm\u001b[0m\u001b[0;34m(\u001b[0m\u001b[0mfilename_or_obj\u001b[0m\u001b[0;34m,\u001b[0m \u001b[0;34m\"wb\"\u001b[0m\u001b[0;34m)\u001b[0m \u001b[0;32mas\u001b[0m \u001b[0mfh\u001b[0m\u001b[0;34m:\u001b[0m\u001b[0;34m\u001b[0m\u001b[0m\n\u001b[0m\u001b[1;32m    522\u001b[0m             _png.write_png(renderer._renderer, fh,\n\u001b[1;32m    523\u001b[0m                             self.figure.dpi, metadata=metadata)\n",
      "\u001b[0;32m~/.pyenv/versions/3.6.6/lib/python3.6/contextlib.py\u001b[0m in \u001b[0;36m__enter__\u001b[0;34m(self)\u001b[0m\n\u001b[1;32m     79\u001b[0m     \u001b[0;32mdef\u001b[0m \u001b[0m__enter__\u001b[0m\u001b[0;34m(\u001b[0m\u001b[0mself\u001b[0m\u001b[0;34m)\u001b[0m\u001b[0;34m:\u001b[0m\u001b[0;34m\u001b[0m\u001b[0m\n\u001b[1;32m     80\u001b[0m         \u001b[0;32mtry\u001b[0m\u001b[0;34m:\u001b[0m\u001b[0;34m\u001b[0m\u001b[0m\n\u001b[0;32m---> 81\u001b[0;31m             \u001b[0;32mreturn\u001b[0m \u001b[0mnext\u001b[0m\u001b[0;34m(\u001b[0m\u001b[0mself\u001b[0m\u001b[0;34m.\u001b[0m\u001b[0mgen\u001b[0m\u001b[0;34m)\u001b[0m\u001b[0;34m\u001b[0m\u001b[0m\n\u001b[0m\u001b[1;32m     82\u001b[0m         \u001b[0;32mexcept\u001b[0m \u001b[0mStopIteration\u001b[0m\u001b[0;34m:\u001b[0m\u001b[0;34m\u001b[0m\u001b[0m\n\u001b[1;32m     83\u001b[0m             \u001b[0;32mraise\u001b[0m \u001b[0mRuntimeError\u001b[0m\u001b[0;34m(\u001b[0m\u001b[0;34m\"generator didn't yield\"\u001b[0m\u001b[0;34m)\u001b[0m \u001b[0;32mfrom\u001b[0m \u001b[0;32mNone\u001b[0m\u001b[0;34m\u001b[0m\u001b[0m\n",
      "\u001b[0;32m~/.pyenv/versions/3.6.6/envs/kc-t-py3.6.6/lib/python3.6/site-packages/matplotlib/cbook/__init__.py\u001b[0m in \u001b[0;36mopen_file_cm\u001b[0;34m(path_or_file, mode, encoding)\u001b[0m\n\u001b[1;32m    405\u001b[0m \u001b[0;32mdef\u001b[0m \u001b[0mopen_file_cm\u001b[0m\u001b[0;34m(\u001b[0m\u001b[0mpath_or_file\u001b[0m\u001b[0;34m,\u001b[0m \u001b[0mmode\u001b[0m\u001b[0;34m=\u001b[0m\u001b[0;34m\"r\"\u001b[0m\u001b[0;34m,\u001b[0m \u001b[0mencoding\u001b[0m\u001b[0;34m=\u001b[0m\u001b[0;32mNone\u001b[0m\u001b[0;34m)\u001b[0m\u001b[0;34m:\u001b[0m\u001b[0;34m\u001b[0m\u001b[0m\n\u001b[1;32m    406\u001b[0m     \u001b[0;34mr\"\"\"Pass through file objects and context-manage `.PathLike`\\s.\"\"\"\u001b[0m\u001b[0;34m\u001b[0m\u001b[0m\n\u001b[0;32m--> 407\u001b[0;31m     \u001b[0mfh\u001b[0m\u001b[0;34m,\u001b[0m \u001b[0mopened\u001b[0m \u001b[0;34m=\u001b[0m \u001b[0mto_filehandle\u001b[0m\u001b[0;34m(\u001b[0m\u001b[0mpath_or_file\u001b[0m\u001b[0;34m,\u001b[0m \u001b[0mmode\u001b[0m\u001b[0;34m,\u001b[0m \u001b[0;32mTrue\u001b[0m\u001b[0;34m,\u001b[0m \u001b[0mencoding\u001b[0m\u001b[0;34m)\u001b[0m\u001b[0;34m\u001b[0m\u001b[0m\n\u001b[0m\u001b[1;32m    408\u001b[0m     \u001b[0;32mif\u001b[0m \u001b[0mopened\u001b[0m\u001b[0;34m:\u001b[0m\u001b[0;34m\u001b[0m\u001b[0m\n\u001b[1;32m    409\u001b[0m         \u001b[0;32mwith\u001b[0m \u001b[0mfh\u001b[0m\u001b[0;34m:\u001b[0m\u001b[0;34m\u001b[0m\u001b[0m\n",
      "\u001b[0;32m~/.pyenv/versions/3.6.6/envs/kc-t-py3.6.6/lib/python3.6/site-packages/matplotlib/cbook/__init__.py\u001b[0m in \u001b[0;36mto_filehandle\u001b[0;34m(fname, flag, return_opened, encoding)\u001b[0m\n\u001b[1;32m    390\u001b[0m             \u001b[0mfh\u001b[0m \u001b[0;34m=\u001b[0m \u001b[0mbz2\u001b[0m\u001b[0;34m.\u001b[0m\u001b[0mBZ2File\u001b[0m\u001b[0;34m(\u001b[0m\u001b[0mfname\u001b[0m\u001b[0;34m,\u001b[0m \u001b[0mflag\u001b[0m\u001b[0;34m)\u001b[0m\u001b[0;34m\u001b[0m\u001b[0m\n\u001b[1;32m    391\u001b[0m         \u001b[0;32melse\u001b[0m\u001b[0;34m:\u001b[0m\u001b[0;34m\u001b[0m\u001b[0m\n\u001b[0;32m--> 392\u001b[0;31m             \u001b[0mfh\u001b[0m \u001b[0;34m=\u001b[0m \u001b[0mopen\u001b[0m\u001b[0;34m(\u001b[0m\u001b[0mfname\u001b[0m\u001b[0;34m,\u001b[0m \u001b[0mflag\u001b[0m\u001b[0;34m,\u001b[0m \u001b[0mencoding\u001b[0m\u001b[0;34m=\u001b[0m\u001b[0mencoding\u001b[0m\u001b[0;34m)\u001b[0m\u001b[0;34m\u001b[0m\u001b[0m\n\u001b[0m\u001b[1;32m    393\u001b[0m         \u001b[0mopened\u001b[0m \u001b[0;34m=\u001b[0m \u001b[0;32mTrue\u001b[0m\u001b[0;34m\u001b[0m\u001b[0m\n\u001b[1;32m    394\u001b[0m     \u001b[0;32melif\u001b[0m \u001b[0mhasattr\u001b[0m\u001b[0;34m(\u001b[0m\u001b[0mfname\u001b[0m\u001b[0;34m,\u001b[0m \u001b[0;34m'seek'\u001b[0m\u001b[0;34m)\u001b[0m\u001b[0;34m:\u001b[0m\u001b[0;34m\u001b[0m\u001b[0m\n",
      "\u001b[0;31mFileNotFoundError\u001b[0m: [Errno 2] No such file or directory: './images/ann/time_series_pred_plot.png'"
     ]
    },
    {
     "data": {
      "image/png": "[encoded data removed]",
      "text/plain": [
       "<Figure size 432x288 with 1 Axes>"
      ]
     },
     "metadata": {
      "needs_background": "light"
     },
     "output_type": "display_data"
    }
   ],
   "source": [
    "plt.title(\"Testing the model\", fontsize=14)\n",
    "plt.plot(t_instance[:-1], time_series(t_instance[:-1]), \"bo\", markersize=10, label=\"instance\")\n",
    "plt.plot(t_instance[1:], time_series(t_instance[1:]), \"w*\", markersize=10, label=\"target\")\n",
    "plt.plot(t_instance[1:], y_pred[0,:,0], \"r.\", markersize=10, label=\"prediction\")\n",
    "plt.legend(loc=\"upper left\")\n",
    "plt.xlabel(\"Time\")\n",
    "\n",
    "save_fig(\"time_series_pred_plot\")\n",
    "plt.show()"
   ]
  },
  {
   "cell_type": "code",
   "execution_count": 26,
   "metadata": {},
   "outputs": [],
   "source": [
    "reset_graph()\n",
    "\n",
    "n_steps = 20\n",
    "n_inputs = 1\n",
    "n_neurons = 100\n",
    "\n",
    "X = tf.placeholder(tf.float32, [None, n_steps, n_inputs])\n",
    "y = tf.placeholder(tf.float32, [None, n_steps, n_outputs])"
   ]
  },
  {
   "cell_type": "code",
   "execution_count": 27,
   "metadata": {},
   "outputs": [],
   "source": [
    "cell = tf.nn.rnn_cell.BasicRNNCell(num_units=n_neurons, activation=tf.nn.relu)\n",
    "rnn_outputs, states = tf.nn.dynamic_rnn(cell, X, dtype=tf.float32)"
   ]
  },
  {
   "cell_type": "code",
   "execution_count": 28,
   "metadata": {},
   "outputs": [],
   "source": [
    "n_outputs = 1\n",
    "learning_rate = 0.001"
   ]
  },
  {
   "cell_type": "code",
   "execution_count": 29,
   "metadata": {},
   "outputs": [],
   "source": [
    "stacked_rnn_outputs = tf.reshape(rnn_outputs, [-1, n_neurons])\n",
    "stacked_outputs = tf.layers.dense(stacked_rnn_outputs, n_outputs)\n",
    "outputs = tf.reshape(stacked_outputs, [-1, n_steps, n_outputs])"
   ]
  },
  {
   "cell_type": "code",
   "execution_count": 30,
   "metadata": {},
   "outputs": [],
   "source": [
    "loss = tf.reduce_mean(tf.square(outputs - y))\n",
    "optimizer = tf.train.AdamOptimizer(learning_rate=learning_rate)\n",
    "training_op = optimizer.minimize(loss)\n",
    "\n",
    "init = tf.global_variables_initializer()\n",
    "saver = tf.train.Saver()"
   ]
  },
  {
   "cell_type": "code",
   "execution_count": 31,
   "metadata": {},
   "outputs": [
    {
     "name": "stdout",
     "output_type": "stream",
     "text": [
      "0 \tMSE: 13.907029\n",
      "100 \tMSE: 0.5056698\n",
      "200 \tMSE: 0.19735886\n",
      "300 \tMSE: 0.101214476\n",
      "400 \tMSE: 0.06850145\n",
      "500 \tMSE: 0.06291986\n",
      "600 \tMSE: 0.055129297\n",
      "700 \tMSE: 0.049436502\n",
      "800 \tMSE: 0.050434686\n",
      "900 \tMSE: 0.0482007\n",
      "1000 \tMSE: 0.04809868\n",
      "1100 \tMSE: 0.04982501\n",
      "1200 \tMSE: 0.041912545\n",
      "1300 \tMSE: 0.049292978\n",
      "1400 \tMSE: 0.043140374\n"
     ]
    }
   ],
   "source": [
    "n_iterations = 1500\n",
    "batch_size = 50\n",
    "\n",
    "with tf.Session() as sess:\n",
    "    init.run()\n",
    "    for iteration in range(n_iterations):\n",
    "        X_batch, y_batch = next_batch(batch_size, n_steps)\n",
    "        sess.run(training_op, feed_dict={X: X_batch, y: y_batch})\n",
    "        if iteration % 100 == 0:\n",
    "            mse = loss.eval(feed_dict={X: X_batch, y: y_batch})\n",
    "            print(iteration, \"\\tMSE:\", mse)\n",
    "    \n",
    "    X_new = time_series(np.array(t_instance[:-1].reshape(-1, n_steps, n_inputs)))\n",
    "    y_pred = sess.run(outputs, feed_dict={X: X_new})\n",
    "    \n",
    "    saver.save(sess, \"./my_time_series_model\")"
   ]
  },
  {
   "cell_type": "code",
   "execution_count": 32,
   "metadata": {},
   "outputs": [
    {
     "data": {
      "text/plain": [
       "array([[[-3.4332483],\n",
       "        [-2.4594698],\n",
       "        [-1.1081185],\n",
       "        [ 0.6882153],\n",
       "        [ 2.1105688],\n",
       "        [ 3.0585155],\n",
       "        [ 3.5144088],\n",
       "        [ 3.3531117],\n",
       "        [ 2.808016 ],\n",
       "        [ 2.1606152],\n",
       "        [ 1.662645 ],\n",
       "        [ 1.5578941],\n",
       "        [ 1.9173537],\n",
       "        [ 2.7210245],\n",
       "        [ 3.8667865],\n",
       "        [ 5.100083 ],\n",
       "        [ 6.099999 ],\n",
       "        [ 6.6480975],\n",
       "        [ 6.6147423],\n",
       "        [ 6.022089 ]]], dtype=float32)"
      ]
     },
     "execution_count": 32,
     "metadata": {},
     "output_type": "execute_result"
    }
   ],
   "source": [
    "y_pred"
   ]
  },
  {
   "cell_type": "markdown",
   "metadata": {},
   "source": [
    "## RNN(Deep RNN)"
   ]
  },
  {
   "cell_type": "code",
   "execution_count": 6,
   "metadata": {},
   "outputs": [],
   "source": [
    "reset_graph()\n",
    "n_inputs = 2\n",
    "n_steps = 5\n",
    "\n",
    "X = tf.placeholder(tf.float32, [None, n_steps, n_inputs])"
   ]
  },
  {
   "cell_type": "code",
   "execution_count": 7,
   "metadata": {},
   "outputs": [],
   "source": [
    "n_neurons = 100\n",
    "n_layers = 3\n",
    "\n",
    "layers = [tf.nn.rnn_cell.BasicRNNCell(num_units=n_neurons) for layer in range(n_layers)]\n",
    "multi_layer_cell = tf.nn.rnn_cell.MultiRNNCell(layers)\n",
    "outputs, states = tf.nn.dynamic_rnn(multi_layer_cell, X, dtype=tf.float32)"
   ]
  },
  {
   "cell_type": "code",
   "execution_count": 8,
   "metadata": {},
   "outputs": [],
   "source": [
    "init = tf.global_variables_initializer()"
   ]
  },
  {
   "cell_type": "code",
   "execution_count": 9,
   "metadata": {},
   "outputs": [],
   "source": [
    "X_batch = np.random.rand(2, n_steps, n_inputs)"
   ]
  },
  {
   "cell_type": "code",
   "execution_count": 10,
   "metadata": {},
   "outputs": [],
   "source": [
    "with tf.Session() as sess:\n",
    "    init.run()\n",
    "    outputs_val, states_val = sess.run([outputs, states], feed_dict={X:X_batch})"
   ]
  },
  {
   "cell_type": "code",
   "execution_count": 11,
   "metadata": {},
   "outputs": [
    {
     "data": {
      "text/plain": [
       "(2, 5, 100)"
      ]
     },
     "execution_count": 11,
     "metadata": {},
     "output_type": "execute_result"
    }
   ],
   "source": [
    "outputs_val.shape"
   ]
  },
  {
   "cell_type": "markdown",
   "metadata": {},
   "source": [
    "## RNN(LSTM)"
   ]
  },
  {
   "cell_type": "code",
   "execution_count": 6,
   "metadata": {},
   "outputs": [],
   "source": [
    "# reset_graph()\n",
    "# lstm_cell = tf.nn.rnn_cell.BasicLSTMCell(num_units=n_neurons)"
   ]
  },
  {
   "cell_type": "code",
   "execution_count": 7,
   "metadata": {},
   "outputs": [],
   "source": [
    "reset_graph()\n",
    "n_steps = 28\n",
    "n_inputs = 28\n",
    "n_neurons = 150\n",
    "n_outputs = 10\n",
    "n_layers = 3\n",
    "\n",
    "learning_rate = 0.001\n",
    "\n",
    "X = tf.placeholder(tf.float32, [None, n_steps, n_inputs])\n",
    "y = tf.placeholder(tf.int32, [None])\n",
    "\n",
    "lstm_cells = [tf.nn.rnn_cell.BasicLSTMCell(num_units=n_neurons) for layer in range(n_layers)]\n",
    "multi_cell = tf.nn.rnn_cell.MultiRNNCell(lstm_cells)\n",
    "outputs, states = tf.nn.dynamic_rnn(multi_cell, X, dtype=tf.float32)\n",
    "top_layer_h_state = states[-1][1]\n",
    "logits = tf.layers.dense(top_layer_h_state, n_outputs, name=\"softmax\")\n",
    "xentropy = tf.nn.sparse_softmax_cross_entropy_with_logits(labels=y, logits=logits)\n",
    "loss = tf.reduce_mean(xentropy, name=\"loss\")\n",
    "optimizer= tf.train.AdamOptimizer(learning_rate=learning_rate)\n",
    "training_op = optimizer.minimize(loss)\n",
    "correct = tf.nn.in_top_k(logits, y, 1)\n",
    "accuracy = tf.reduce_mean(tf.cast(correct, tf.float32))\n",
    "\n",
    "init = tf.global_variables_initializer()"
   ]
  },
  {
   "cell_type": "code",
   "execution_count": 8,
   "metadata": {},
   "outputs": [
    {
     "data": {
      "text/plain": [
       "(LSTMStateTuple(c=<tf.Tensor 'rnn/while/Exit_3:0' shape=(?, 150) dtype=float32>, h=<tf.Tensor 'rnn/while/Exit_4:0' shape=(?, 150) dtype=float32>),\n",
       " LSTMStateTuple(c=<tf.Tensor 'rnn/while/Exit_5:0' shape=(?, 150) dtype=float32>, h=<tf.Tensor 'rnn/while/Exit_6:0' shape=(?, 150) dtype=float32>),\n",
       " LSTMStateTuple(c=<tf.Tensor 'rnn/while/Exit_7:0' shape=(?, 150) dtype=float32>, h=<tf.Tensor 'rnn/while/Exit_8:0' shape=(?, 150) dtype=float32>))"
      ]
     },
     "execution_count": 8,
     "metadata": {},
     "output_type": "execute_result"
    }
   ],
   "source": [
    "states"
   ]
  },
  {
   "cell_type": "code",
   "execution_count": 9,
   "metadata": {},
   "outputs": [
    {
     "data": {
      "text/plain": [
       "<tf.Tensor 'rnn/while/Exit_8:0' shape=(?, 150) dtype=float32>"
      ]
     },
     "execution_count": 9,
     "metadata": {},
     "output_type": "execute_result"
    }
   ],
   "source": [
    "top_layer_h_state"
   ]
  },
  {
   "cell_type": "code",
   "execution_count": 12,
   "metadata": {},
   "outputs": [
    {
     "name": "stdout",
     "output_type": "stream",
     "text": [
      "0 Last batch accuracy: 0.93333334 Test accuracy: 0.9522\n",
      "1 Last batch accuracy: 0.9866667 Test accuracy: 0.968\n",
      "2 Last batch accuracy: 0.99333334 Test accuracy: 0.9701\n",
      "3 Last batch accuracy: 0.99333334 Test accuracy: 0.9839\n",
      "4 Last batch accuracy: 0.9866667 Test accuracy: 0.9806\n",
      "5 Last batch accuracy: 0.99333334 Test accuracy: 0.9854\n",
      "6 Last batch accuracy: 0.99333334 Test accuracy: 0.9863\n",
      "7 Last batch accuracy: 0.9866667 Test accuracy: 0.9862\n",
      "8 Last batch accuracy: 1.0 Test accuracy: 0.9855\n",
      "9 Last batch accuracy: 1.0 Test accuracy: 0.987\n"
     ]
    }
   ],
   "source": [
    "n_epochs = 10\n",
    "batch_size = 150\n",
    "\n",
    "with tf.Session() as sess:\n",
    "    init.run()\n",
    "    for epoch in range(n_epochs):\n",
    "        for X_batch, y_batch in shuffle_batch(X_train, y_train, batch_size):\n",
    "            X_batch = X_batch.reshape(-1, n_steps, n_inputs)\n",
    "            sess.run(training_op, feed_dict={X:X_batch, y:y_batch})\n",
    "        X_test = X_test.reshape(-1, n_steps, n_inputs)\n",
    "        acc_batch = accuracy.eval(feed_dict={X:X_batch, y:y_batch})\n",
    "        acc_test = accuracy.eval(feed_dict={X:X_test, y:y_test})\n",
    "        print(epoch, \"Last batch accuracy:\", acc_batch, \"Test accuracy:\", acc_test)        "
   ]
  },
  {
   "cell_type": "markdown",
   "metadata": {},
   "source": [
    "## RNN(Embeddings)"
   ]
  },
  {
   "cell_type": "code",
   "execution_count": 4,
   "metadata": {},
   "outputs": [],
   "source": [
    "from six.moves import urllib\n",
    "import errno\n",
    "import os\n",
    "import zipfile\n",
    "\n",
    "WORDS_PATH = \"datasets/words\"\n",
    "WORDS_URL = 'http://mattmahoney.net/dc/text8.zip'\n",
    "\n",
    "def mkdir_p(path):\n",
    "    try:\n",
    "        os.makedirs(path)\n",
    "    except OSError as exc:\n",
    "        if exc.errno == errno.EEXIST and os.path.isdir(path):\n",
    "            pass\n",
    "        else:\n",
    "            raise\n",
    "\n",
    "def fetch_words_data(words_url=WORDS_URL, words_path=WORDS_PATH):\n",
    "    os.makedirs(words_path, exist_ok=True)\n",
    "    zip_path = os.path.join(words_path, \"words.zip\")\n",
    "    if not os.path.exists(zip_path):\n",
    "        urllib.request.urlretrieve(words_url, zip_path)\n",
    "    with zipfile.ZipFile(zip_path) as f:\n",
    "        data = f.read(f.namelist()[0])\n",
    "    return data.decode(\"ascii\").split()"
   ]
  },
  {
   "cell_type": "code",
   "execution_count": 5,
   "metadata": {},
   "outputs": [],
   "source": [
    "words = fetch_words_data()"
   ]
  },
  {
   "cell_type": "code",
   "execution_count": 7,
   "metadata": {},
   "outputs": [
    {
     "data": {
      "text/plain": [
       "['anarchism', 'originated', 'as', 'a', 'term']"
      ]
     },
     "execution_count": 7,
     "metadata": {},
     "output_type": "execute_result"
    }
   ],
   "source": [
    "words[:5]"
   ]
  },
  {
   "cell_type": "code",
   "execution_count": 16,
   "metadata": {},
   "outputs": [],
   "source": [
    "from collections import Counter\n",
    "\n",
    "vocabulary_size = 50000\n",
    "\n",
    "vocabulary = [(\"UNK\",None)] + Counter(words).most_common(vocabulary_size -1)\n",
    "vocabulary = np.array([word for word, _ in vocabulary])\n",
    "dictionary = {word: code for code, word in enumerate(vocabulary)}\n",
    "data = np.array([dictionary.get(word, 0) for word in words])"
   ]
  },
  {
   "cell_type": "code",
   "execution_count": 22,
   "metadata": {},
   "outputs": [
    {
     "data": {
      "text/plain": [
       "('anarchism originated as a term of abuse first used',\n",
       " array([5234, 3081,   12,    6,  195,    2, 3134,   46,   59]))"
      ]
     },
     "execution_count": 22,
     "metadata": {},
     "output_type": "execute_result"
    }
   ],
   "source": [
    "\" \".join(words[:9]), data[:9]"
   ]
  },
  {
   "cell_type": "code",
   "execution_count": 23,
   "metadata": {},
   "outputs": [
    {
     "data": {
      "text/plain": [
       "'anarchism originated as a term of abuse first used'"
      ]
     },
     "execution_count": 23,
     "metadata": {},
     "output_type": "execute_result"
    }
   ],
   "source": [
    "\" \".join([vocabulary[word_index] for word_index in [5234, 3081,   12,    6,  195,    2, 3134,   46,   59]])"
   ]
  },
  {
   "cell_type": "code",
   "execution_count": 24,
   "metadata": {},
   "outputs": [
    {
     "data": {
      "text/plain": [
       "('culottes', 0)"
      ]
     },
     "execution_count": 24,
     "metadata": {},
     "output_type": "execute_result"
    }
   ],
   "source": [
    "words[24], data[24]"
   ]
  },
  {
   "cell_type": "code",
   "execution_count": null,
   "metadata": {},
   "outputs": [],
   "source": []
  },
  {
   "cell_type": "code",
   "execution_count": null,
   "metadata": {},
   "outputs": [],
   "source": []
  },
  {
   "cell_type": "code",
   "execution_count": null,
   "metadata": {},
   "outputs": [],
   "source": []
  },
  {
   "cell_type": "code",
   "execution_count": null,
   "metadata": {},
   "outputs": [],
   "source": []
  },
  {
   "cell_type": "code",
   "execution_count": null,
   "metadata": {},
   "outputs": [],
   "source": []
  },
  {
   "cell_type": "code",
   "execution_count": null,
   "metadata": {},
   "outputs": [],
   "source": []
  },
  {
   "cell_type": "code",
   "execution_count": null,
   "metadata": {},
   "outputs": [],
   "source": []
  },
  {
   "cell_type": "code",
   "execution_count": null,
   "metadata": {},
   "outputs": [],
   "source": []
  },
  {
   "cell_type": "code",
   "execution_count": null,
   "metadata": {},
   "outputs": [],
   "source": []
  },
  {
   "cell_type": "code",
   "execution_count": null,
   "metadata": {},
   "outputs": [],
   "source": []
  },
  {
   "cell_type": "code",
   "execution_count": null,
   "metadata": {},
   "outputs": [],
   "source": []
  }
 ],
 "metadata": {
  "kernelspec": {
   "display_name": "Python 3",
   "language": "python",
   "name": "python3"
  },
  "language_info": {
   "codemirror_mode": {
    "name": "ipython",
    "version": 3
   },
   "file_extension": ".py",
   "mimetype": "text/x-python",
   "name": "python",
   "nbconvert_exporter": "python",
   "pygments_lexer": "ipython3",
   "version": "3.6.6"
  },
  "toc": {
   "base_numbering": 1,
   "nav_menu": {},
   "number_sections": true,
   "sideBar": true,
   "skip_h1_title": false,
   "title_cell": "Table of Contents",
   "title_sidebar": "Contents",
   "toc_cell": false,
   "toc_position": {},
   "toc_section_display": true,
   "toc_window_display": false
  }
 },
 "nbformat": 4,
 "nbformat_minor": 2
}
