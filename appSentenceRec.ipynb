{
 "cells": [
  {
   "cell_type": "code",
   "execution_count": 1,
   "metadata": {},
   "outputs": [],
   "source": [
    "from janome.tokenizer import Tokenizer"
   ]
  },
  {
   "cell_type": "code",
   "execution_count": 14,
   "metadata": {},
   "outputs": [],
   "source": [
    "t = Tokenizer()\n",
    "s = 'おすすめの料理を教えてください'"
   ]
  },
  {
   "cell_type": "code",
   "execution_count": 16,
   "metadata": {},
   "outputs": [
    {
     "name": "stdout",
     "output_type": "stream",
     "text": [
      "おすすめ\t名詞,サ変接続,*,*,*,*,おすすめ,オススメ,オススメ\n",
      "の\t助詞,連体化,*,*,*,*,の,ノ,ノ\n",
      "料理\t名詞,サ変接続,*,*,*,*,料理,リョウリ,リョーリ\n",
      "を\t助詞,格助詞,一般,*,*,*,を,ヲ,ヲ\n",
      "教え\t動詞,自立,*,*,一段,連用形,教える,オシエ,オシエ\n",
      "て\t助詞,接続助詞,*,*,*,*,て,テ,テ\n",
      "ください\t動詞,非自立,*,*,五段・ラ行特殊,命令ｉ,くださる,クダサイ,クダサイ\n"
     ]
    }
   ],
   "source": [
    "for token in t.tokenize(s):\n",
    "    print(token)"
   ]
  },
  {
   "cell_type": "code",
   "execution_count": 1,
   "metadata": {},
   "outputs": [
    {
     "name": "stdout",
     "output_type": "stream",
     "text": [
      "--2019-01-26 12:13:25--  http://www.aozora.gr.jp/cards/000148/files/794_ruby_4237.zip\n",
      "www.aozora.gr.jp (www.aozora.gr.jp) をDNSに問いあわせています... 59.106.13.115\n",
      "www.aozora.gr.jp (www.aozora.gr.jp)|59.106.13.115|:80 に接続しています... 接続しました。\n",
      "HTTP による接続要求を送信しました、応答を待っています... 301 Moved Permanently\n",
      "場所: https://www.aozora.gr.jp/cards/000148/files/794_ruby_4237.zip [続く]\n",
      "--2019-01-26 12:13:25--  https://www.aozora.gr.jp/cards/000148/files/794_ruby_4237.zip\n",
      "www.aozora.gr.jp (www.aozora.gr.jp)|59.106.13.115|:443 に接続しています... 接続しました。\n",
      "HTTP による接続要求を送信しました、応答を待っています... 200 OK\n",
      "長さ: 158711 (155K) [application/zip]\n",
      "`794_ruby_4237.zip' に保存中\n",
      "\n",
      "794_ruby_4237.zip   100%[===================>] 154.99K   869KB/s 時間 0.2s       \n",
      "\n",
      "2019-01-26 12:13:25 (869 KB/s) - `794_ruby_4237.zip' へ保存完了 [158711/158711]\n",
      "\n",
      "Archive:  794_ruby_4237.zip\n",
      "  inflating: sanshiro.txt            \n",
      "-rw-r--r--  1 hiramatsuyuuki  staff  363871  6 19  2014 sanshiro.txt\n"
     ]
    }
   ],
   "source": [
    "!wget http://www.aozora.gr.jp/cards/000148/files/794_ruby_4237.zip\n",
    "!unzip 794_ruby_4237.zip\n",
    "!ls -l sanshiro.txt"
   ]
  },
  {
   "cell_type": "code",
   "execution_count": 2,
   "metadata": {},
   "outputs": [
    {
     "name": "stdout",
     "output_type": "stream",
     "text": [
      "\n",
      "\n",
      "一\n",
      "\n",
      "　うとうととして目がさめると女はいつのまにか、隣のじいさんと話を始めている。このじいさんはたしかに前の前の駅から乗ったいなか者である。発車まぎわに頓狂な声を出して駆け込んで来て、いきなり肌を\n",
      "\n",
      "\n",
      "取りかかる。与次郎だけが三四郎のそばへ来た。\n",
      "「どうだ森の女は」\n",
      "「森の女という題が悪い」\n",
      "「じゃ、なんとすればよいんだ」\n",
      "　三四郎はなんとも答えなかった。ただ口の中で迷羊、迷羊と繰り返した。\n",
      "\n",
      "\n",
      "\n",
      "\n"
     ]
    }
   ],
   "source": [
    "import codecs\n",
    "# ファイル読込み、内部表現化\n",
    "f = codecs.open('sanshiro.txt', \"r\", \"sjis\")\n",
    "text = f.read()\n",
    "f.close()\n",
    "\n",
    "# ファイル整形\n",
    "import re\n",
    "# ヘッダ部分の除去\n",
    "text = re.split('\\-{5,}',text)[2]\n",
    "# フッタ部分の除去\n",
    "text = re.split('底本：',text)[0]\n",
    "# | の除去\n",
    "text = text.replace('|', '')\n",
    "# ルビの削除\n",
    "text = re.sub('《.+?》', '', text)\n",
    "# 入力注の削除\n",
    "text = re.sub('［＃.+?］', '',text)\n",
    "# 空行の削除\n",
    "text = re.sub('\\n\\n', '\\n', text) \n",
    "text = re.sub('\\r', '', text)\n",
    "\n",
    "# 整形結果確認\n",
    "\n",
    "# 頭の100文字の表示 \n",
    "print(text[:100])\n",
    "# 見やすくするため、空行 \n",
    "print()\n",
    "print()\n",
    "# 後ろの100文字の表示 \n",
    "print(text[-100:])"
   ]
  },
  {
   "cell_type": "code",
   "execution_count": 3,
   "metadata": {},
   "outputs": [
    {
     "name": "stdout",
     "output_type": "stream",
     "text": [
      "三四郎\n",
      "京都\n",
      "ちょっと\n",
      "用\n",
      "ある\n",
      "降りる\n",
      "ついで\n",
      "一\n",
      "する\n",
      "目\n",
      "さめる\n",
      "女\n",
      "隣\n",
      "じいさん\n",
      "話\n",
      "始める\n",
      "いる\n"
     ]
    }
   ],
   "source": [
    "from janome.tokenizer import Tokenizer\n",
    "# Tokenneizerインスタンスの生成 \n",
    "t = Tokenizer()\n",
    "\n",
    "# テキストを引数として、形態素解析の結果、名詞・動詞原型のみを配列で抽出する関数を定義 \n",
    "def extract_words(text):\n",
    "    tokens = t.tokenize(text)\n",
    "    return [token.base_form for token in tokens \n",
    "        if token.part_of_speech.split(',')[0] in['名詞', '動詞']]\n",
    "\n",
    "#  関数テスト\n",
    "ret = extract_words('三四郎は京都でちょっと用があって降りたついでに。')\n",
    "for word in ret:\n",
    "    print(word)\n",
    "\n",
    "# 全体のテキストを句点('。')で区切った配列にする。 \n",
    "sentences = text.split('。')\n",
    "# それぞれの文章を単語リストに変換(処理に数分かかります)\n",
    "word_list = [extract_words(sentence) for sentence in sentences]\n",
    "\n",
    "# 結果の一部を確認 \n",
    "for word in word_list[0]:\n",
    "    print(word)"
   ]
  },
  {
   "cell_type": "code",
   "execution_count": 20,
   "metadata": {},
   "outputs": [
    {
     "name": "stdout",
     "output_type": "stream",
     "text": [
      "勾配\n",
      "降下\n",
      "法\n"
     ]
    }
   ],
   "source": [
    "#  関数テスト\n",
    "ret = extract_words('勾配降下法')\n",
    "for word in ret:\n",
    "    print(word)"
   ]
  },
  {
   "cell_type": "code",
   "execution_count": 4,
   "metadata": {},
   "outputs": [],
   "source": [
    "# Word2Vecライブラリのロード\n",
    "from gensim.models import word2vec\n",
    "\n",
    "# size: 圧縮次元数\n",
    "# min_count: 出現頻度の低いものをカットする\n",
    "# window: 前後の単語を拾う際の窓の広さを決める\n",
    "# iter: 機械学習の繰り返し回数(デフォルト:5)十分学習できていないときにこの値を調整する\n",
    "# model.wv.most_similarの結果が1に近いものばかりで、model.dict['wv']のベクトル値が小さい値ばかりの \n",
    "# ときは、学習回数が少ないと考えられます。\n",
    "# その場合、iterの値を大きくして、再度学習を行います。\n",
    "\n",
    "# 事前準備したword_listを使ってWord2Vecの学習実施\n",
    "model = word2vec.Word2Vec(word_list, size=100,min_count=5,window=5,iter=100)"
   ]
  },
  {
   "cell_type": "code",
   "execution_count": 5,
   "metadata": {},
   "outputs": [
    {
     "name": "stdout",
     "output_type": "stream",
     "text": [
      "[-0.563186   -0.11887318  0.66275764 -0.29098827  0.02309809 -0.20922549\n",
      "  0.23195629  0.5226636  -0.07885285 -0.50527006 -0.66221255 -0.1025684\n",
      "  0.05737205 -1.0302899  -0.3289083   0.31853     0.12568839 -0.2614803\n",
      " -0.39552355 -0.04434584 -0.03857547 -0.88955194  0.15444139 -0.09106922\n",
      "  0.25068918  0.48266354 -0.8184265  -0.58586913  0.09914121 -0.22208445\n",
      " -0.35135096  0.0709054  -0.08293461  0.01704745 -0.4322672   0.46470514\n",
      " -0.2754094  -0.31491783  0.24328439 -0.7093739   0.01978837  0.2636638\n",
      " -0.16215883  0.6252992  -0.2530013   0.32801667 -0.00191444 -0.13582203\n",
      "  0.08644591  0.22770953  0.76143605 -0.5578901   0.60276544  0.04574628\n",
      " -0.74351424 -0.67008686 -0.8171414   0.00847305  0.21800551  0.19472255\n",
      " -0.0561062  -0.79417884  0.80249584  0.18939157 -0.33254972 -0.03130971\n",
      " -0.72211105  0.81497306 -0.29064637 -0.2791048  -0.22808504  0.02607691\n",
      "  0.4599352   0.3358488  -0.41397086  0.18989086  0.5822133   0.26180425\n",
      "  0.9677959  -0.07952777  0.42871222 -0.6222144  -0.5960752  -0.28550854\n",
      "  0.739469   -0.1690601  -0.15733077 -1.080223    0.11958857  0.35096768\n",
      "  0.37926143  0.08696495  0.42669833 -0.4619849   0.05029429 -0.10596464\n",
      " -0.23629303  0.15278427 -0.06422329  0.39814138]\n"
     ]
    }
   ],
   "source": [
    "# 結果の確認1\n",
    "# 一つ一つの単語は100次元のベクトルになっています。 \n",
    "# 「世間」のベクトル値を確認します。\n",
    "print(model.__dict__['wv']['世間'])"
   ]
  },
  {
   "cell_type": "code",
   "execution_count": 11,
   "metadata": {},
   "outputs": [
    {
     "name": "stdout",
     "output_type": "stream",
     "text": [
      "遊び 0.4558658003807068\n",
      "御存じ 0.45559656620025635\n",
      "あなた 0.44520139694213867\n",
      "御用 0.4353439509868622\n",
      "おいで 0.42126962542533875\n",
      "野々宮 0.419454425573349\n",
      "思える 0.4158669412136078\n",
      "めんどう 0.41556546092033386\n",
      "かた 0.4107964038848877\n",
      "おっかさん 0.4104591906070709\n"
     ]
    }
   ],
   "source": [
    "# 結果の確認2\n",
    "# 関数most_similarを使って「世間」の類似単語を調べます \n",
    "ret = model.wv.most_similar(positive=['私']) \n",
    "for item in ret:\n",
    "    print(item[0], item[1])"
   ]
  }
 ],
 "metadata": {
  "kernelspec": {
   "display_name": "Python 3",
   "language": "python",
   "name": "python3"
  },
  "language_info": {
   "codemirror_mode": {
    "name": "ipython",
    "version": 3
   },
   "file_extension": ".py",
   "mimetype": "text/x-python",
   "name": "python",
   "nbconvert_exporter": "python",
   "pygments_lexer": "ipython3",
   "version": "3.6.6"
  },
  "toc": {
   "base_numbering": 1,
   "nav_menu": {},
   "number_sections": true,
   "sideBar": true,
   "skip_h1_title": false,
   "title_cell": "Table of Contents",
   "title_sidebar": "Contents",
   "toc_cell": false,
   "toc_position": {},
   "toc_section_display": true,
   "toc_window_display": false
  }
 },
 "nbformat": 4,
 "nbformat_minor": 2
}
